{
 "cells": [
  {
   "cell_type": "code",
   "execution_count": 555,
   "metadata": {
    "collapsed": true
   },
   "outputs": [],
   "source": [
    "import pandas as pd\n",
    "import numpy as np\n",
    "import seaborn as sns\n",
    "import statsmodels.api as sm\n",
    "import matplotlib.pylab as plt\n",
    "import re\n",
    "import scipy as sp\n",
    "from sklearn.preprocessing import StandardScaler"
   ]
  },
  {
   "cell_type": "markdown",
   "metadata": {},
   "source": [
    "# 1. impressions 모델링 with training_set"
   ]
  },
  {
   "cell_type": "code",
   "execution_count": 556,
   "metadata": {
    "collapsed": true
   },
   "outputs": [],
   "source": [
    "train = pd.read_csv('training_set.csv', encoding='CP949')\n",
    "test = pd.read_csv('test_set.csv', encoding='CP949')"
   ]
  },
  {
   "cell_type": "markdown",
   "metadata": {},
   "source": [
    "# 전처리"
   ]
  },
  {
   "cell_type": "code",
   "execution_count": 557,
   "metadata": {
    "scrolled": true
   },
   "outputs": [
    {
     "name": "stdout",
     "output_type": "stream",
     "text": [
      "7783\n",
      "1753\n"
     ]
    }
   ],
   "source": [
    "print len(train[train['language_code'] == 'ko'])\n",
    "print len(train[train['language_code'] == 'en'])"
   ]
  },
  {
   "cell_type": "code",
   "execution_count": 558,
   "metadata": {
    "collapsed": true
   },
   "outputs": [],
   "source": [
    "ko_X1 = pd.DataFrame(train[train['language_code'] == 'ko'],columns = ['id','comments_count','likes_count','clippings_count','via','category','communities'])\n",
    "en_X1 = pd.DataFrame(train[train['language_code'] == 'en'],columns = ['id','comments_count','likes_count','clippings_count','via','category','communities'])"
   ]
  },
  {
   "cell_type": "code",
   "execution_count": 559,
   "metadata": {
    "collapsed": true
   },
   "outputs": [],
   "source": [
    "y1 = pd.DataFrame(train[train['language_code'] == 'ko'], columns = ['impressions_count'])"
   ]
  },
  {
   "cell_type": "code",
   "execution_count": 560,
   "metadata": {
    "collapsed": true
   },
   "outputs": [],
   "source": [
    "ko_X1 = ko_X1.drop(ko_X1.index[[755,1149,2237,5310,6579,7728]]).reset_index(drop=1)\n",
    "y1 = y1.drop(y1.index[[755,1149,2237,5310,6579,7728]]).reset_index(drop=1)"
   ]
  },
  {
   "cell_type": "code",
   "execution_count": 561,
   "metadata": {
    "collapsed": true
   },
   "outputs": [],
   "source": [
    "via_dum = pd.DataFrame(np.zeros((len(ko_X1),3)),columns = ['android','ios','web'])\n",
    "for i, via in enumerate(ko_X1.via):\n",
    "    if via == 'android':\n",
    "        via_dum.ix[i, 0] = 1\n",
    "    elif via == 'ios':\n",
    "        via_dum.ix[i,1] = 1\n",
    "    elif via == 'web':\n",
    "        via_dum.ix[i,2] = 1\n",
    "ko_X1 = ko_X1.join(via_dum)"
   ]
  },
  {
   "cell_type": "code",
   "execution_count": 562,
   "metadata": {
    "collapsed": true
   },
   "outputs": [],
   "source": [
    "category_dum = pd.DataFrame(np.zeros((len(ko_X1),2)),columns = ['ImagePost','TextPost'])\n",
    "for i, category in enumerate(ko_X1.category):\n",
    "    if category == 'ImagePost':\n",
    "        category_dum.ix[i,0] = 1\n",
    "    elif category == 'TextPost':\n",
    "        category_dum.ix[i,1] = 1\n",
    "ko_X1 = ko_X1.join(category_dum)"
   ]
  },
  {
   "cell_type": "code",
   "execution_count": 563,
   "metadata": {
    "collapsed": true
   },
   "outputs": [],
   "source": [
    "community = ['그래픽 디자인','자전거','한국 TV쇼','뉴스와 이슈','야구','한국 드라마','남성 패션','맛집 탐방','부모','축구','유머','모바일 게임','홈 인테리어 & 데코','요리','자동차','캠핑','웹툰','일본 애니메이션','동물','피트니스','다이어트','금융','사진 예술','일러스트레이션','책','한국 여행','남성 데일리룩','디아이와이','영감을 주는 이야기','국내 연예','음식','빙글러','Did You Know?','아시아의 미녀스타','어록','남성 스트리트 패션','고양이','한국 가요','결혼 생활','한국 음식','공포 미스테리','헤어스타일','모델', '기업가정신','남성 신발','술','마케팅','스킨케어','한국 영화','엽기','창작문예','디저트','인터넷 스타','강연','스포츠','요가','코리안 뷰티','게임','네일','맥주','카페','필라테스','대학 생활','영아(2세미만 부모)','역사','패션 디자인','유럽 여행','유아(2~4세 부모)','인테리어 디자인','축제','무한 도전','웨딩&허니문','시','헐리우드 영화','향수','가구','임신과 출산','별자리 운세','일본 만화','커피','재테크','크로스핏','꽃','맨즈 그루밍','호텔&숙소','퓨전 요리','베이킹','카메라','이벤트/세일 정보','미국 여행','일본 여행','남성 액세서리','애플','모바일 앱','수공예','댄스','자연 ','PC 게임','원피스(만화)','음악 페스티벌','부산 여행','순수 예술','무술','여성 액세서리','프리미어리그','남성 시계','익스트림 스포츠','스파&마사지','비디오 게임','천문학','음료','자동차 튜닝','현대 미술','인디음악','채식요리','팬 아트 (Fan Art)','헐리우드 스타','여성 슈즈','키덜트 제품','과학','일본어 공부','어쿠스틱','아동 패션','건축','의료','인형','산업 디자인','일렉트로닉 뮤직','남성 스포츠웨어','남성 가방','오피스 인테리어','아시아 남자 스타','뮤지컬','일기','미니어처','토이','악기','Social Media','홍콩 여행','호주 여행','뜨개질','흑백사진','와인','연극','일본 영화','전시회','스킨 스쿠버 다이빙','목공예','중국 여행','중국어 공부','수상 스포츠','차','태국 여행','레고','푸드 스타일링','메이저리그','원예','농구','하이킹&트레킹','픽시','성형수술','공유경제','여성 가방','일본 스타','컴퓨터','일본 음식','여성 스포츠웨어','힙합','빅토리아시크릿 모델','빅토리아 시크릿','그릇 및 조리도구','액션 영화','팝 뮤직','파리 여행','한국 만화','액션 게임','클럽음악','시뮬레이션 게임','중국 음식','사회적 기업','복싱','오토바이','캐나다 여행','가젯','도쿄 여행','인포그래픽','드레스','이탈리아 여행','방콕 여행','미국 드라마','에이오에이','케이크','이탈리아 음식','중국 스타','에이핑크','유럽 건축','야생동물','브라운 아이드 걸스','UEFA 챔피언스 리그','한지민','나이키','런던 여행','브레인 티저','맨체스터 유나이티드','월페이퍼','아디다스','여성 시계','안경류','웹&모바일 디자인','프랑스 여행','영국 여행','교토 여행','홈엔터테인먼트','디제이','영국 여행','아이유','바르셀로나 여행','라리가','현아(포미닛)','코스프레','FPS 게임','발라드','아이폰 앱','안드로이드 앱','어드벤쳐 게임','손예진','로마 여행','일본 드라마','주스&스무디','스트리트 아트','걸스데이','피렌체 여행','필리핀 여행','롤플레잉 게임','도시락','현대 자동차','UEFA 유로파 리그','미국 애니메이션','모던 패밀리(미국 드라마)','프렌즈 (미국 시트콤)','골프','해산물','분데스리가','스포츠 게임','설리(f(x))','NCIS(미국 드라마)','로스트(미국 드라마)','미국 정치','박보영','K리그 클래식','몰디브 여행','칵테일','엔비에이','신민아','꽃보다 남자','밀리터리 매니아','기아 자동차','김건모','대만스타','액션 피규어','대구 FC','한국 건축','씨스타','독일 여행','한옥','스페인 여행','패키지 디자인','물고기(애완동물)','e스포츠','싸이']"
   ]
  },
  {
   "cell_type": "code",
   "execution_count": 564,
   "metadata": {
    "collapsed": true
   },
   "outputs": [],
   "source": [
    "community_dum = pd.DataFrame(np.zeros((len(ko_X1),len(community))),columns = community)\n",
    "for i, communities in enumerate(ko_X1.communities):\n",
    "    try:\n",
    "        l = re.sub(r'[{}]','',communities)\n",
    "        l = re.split(',',l)\n",
    "        for c in l:\n",
    "            c = c.encode('utf-8')\n",
    "            if c in community:\n",
    "                community_dum.ix[i,c] = 1\n",
    "    except:\n",
    "        pass"
   ]
  },
  {
   "cell_type": "code",
   "execution_count": 565,
   "metadata": {
    "collapsed": true
   },
   "outputs": [],
   "source": [
    "co = np.arange(len(community))\n",
    "community_dum.columns = co\n",
    "ko_X1 = ko_X1.join(community_dum.add_prefix('Community_'))"
   ]
  },
  {
   "cell_type": "code",
   "execution_count": null,
   "metadata": {
    "collapsed": true
   },
   "outputs": [],
   "source": []
  },
  {
   "cell_type": "markdown",
   "metadata": {},
   "source": [
    "# OLS 모델링"
   ]
  },
  {
   "cell_type": "code",
   "execution_count": 566,
   "metadata": {
    "scrolled": true
   },
   "outputs": [
    {
     "data": {
      "text/plain": [
       "Index([u'id', u'comments_count', u'likes_count', u'clippings_count', u'via',\n",
       "       u'category', u'communities', u'android', u'ios', u'web',\n",
       "       ...\n",
       "       u'Community_260', u'Community_261', u'Community_262', u'Community_263',\n",
       "       u'Community_264', u'Community_265', u'Community_266', u'Community_267',\n",
       "       u'Community_268', u'Community_269'],\n",
       "      dtype='object', length=282)"
      ]
     },
     "execution_count": 566,
     "metadata": {},
     "output_type": "execute_result"
    }
   ],
   "source": [
    "ko_X1.columns"
   ]
  },
  {
   "cell_type": "code",
   "execution_count": 567,
   "metadata": {
    "collapsed": true
   },
   "outputs": [],
   "source": [
    "ko_X2 = pd.DataFrame(ko_X1, columns = ['likes_count','android','ios','web','ImagePost','Community_1','Community_6','Community_9','Community_10','Community_11','Community_13','Community_18','Community_19','Community_20','Community_25','Community_26','Community_28','Community_29','Community_31','Community_32','Community_33','Community_35','Community_36','Community_37','Community_39','Community_40','Community_41','Community_43','Community_44','Community_45','Community_49','Community_50','Community_54','Community_55','Community_60','Community_62','Community_70','Community_81','Community_84','Community_116','Community_119','Community_152','Community_166','Community_174','Community_182','Community_190','Community_220','Community_223','Community_224'])\n",
    "ko_X2 = sm.add_constant(ko_X2)"
   ]
  },
  {
   "cell_type": "code",
   "execution_count": 568,
   "metadata": {
    "scrolled": true
   },
   "outputs": [
    {
     "name": "stdout",
     "output_type": "stream",
     "text": [
      "                            OLS Regression Results                            \n",
      "==============================================================================\n",
      "Dep. Variable:      impressions_count   R-squared:                       0.764\n",
      "Model:                            OLS   Adj. R-squared:                  0.762\n",
      "Method:                 Least Squares   F-statistic:                     520.3\n",
      "Date:                Sun, 14 May 2017   Prob (F-statistic):               0.00\n",
      "Time:                        09:02:05   Log-Likelihood:                -85320.\n",
      "No. Observations:                7777   AIC:                         1.707e+05\n",
      "Df Residuals:                    7728   BIC:                         1.711e+05\n",
      "Df Model:                          48                                         \n",
      "Covariance Type:            nonrobust                                         \n",
      "=================================================================================\n",
      "                    coef    std err          t      P>|t|      [0.025      0.975]\n",
      "---------------------------------------------------------------------------------\n",
      "const          3490.1667    555.866      6.279      0.000    2400.519    4579.814\n",
      "likes_count     424.9440      3.212    132.304      0.000     418.648     431.240\n",
      "android         273.7352    290.151      0.943      0.345    -295.039     842.509\n",
      "ios            1185.5122    426.986      2.776      0.006     348.504    2022.521\n",
      "web            2030.9193    314.166      6.464      0.000    1415.070    2646.769\n",
      "ImagePost      1928.6562    757.204      2.547      0.011     444.332    3412.981\n",
      "Community_1   -2244.6352   1718.823     -1.306      0.192   -5613.995    1124.725\n",
      "Community_6    3036.6597   1023.349      2.967      0.003    1030.618    5042.701\n",
      "Community_9    9548.7879   2460.091      3.881      0.000    4726.342    1.44e+04\n",
      "Community_10   1.567e+04    595.267     26.319      0.000    1.45e+04    1.68e+04\n",
      "Community_11  -8251.3452   1723.122     -4.789      0.000   -1.16e+04   -4873.559\n",
      "Community_13   3648.9974   1110.896      3.285      0.001    1471.341    5826.654\n",
      "Community_18   1636.1068    978.736      1.672      0.095    -282.481    3554.695\n",
      "Community_19   4666.8788   1216.448      3.836      0.000    2282.311    7051.446\n",
      "Community_20   2964.6631    943.413      3.142      0.002    1115.317    4814.009\n",
      "Community_25   8622.2973   1139.105      7.569      0.000    6389.342    1.09e+04\n",
      "Community_26   3226.8835   1117.937      2.886      0.004    1035.425    5418.342\n",
      "Community_28   3679.7093    476.715      7.719      0.000    2745.219    4614.200\n",
      "Community_29   2964.8051    786.116      3.771      0.000    1423.804    4505.806\n",
      "Community_31   1374.9424    553.637      2.483      0.013     289.664    2460.221\n",
      "Community_32   1920.0608    608.871      3.153      0.002     726.508    3113.613\n",
      "Community_33   2749.7079   1165.433      2.359      0.018     465.143    5034.273\n",
      "Community_35   4466.5438   1221.141      3.658      0.000    2072.776    6860.311\n",
      "Community_36  -4858.8336    972.948     -4.994      0.000   -6766.074   -2951.593\n",
      "Community_37   4552.7667   1120.869      4.062      0.000    2355.559    6749.975\n",
      "Community_39   6885.4858   1267.952      5.430      0.000    4399.956    9371.016\n",
      "Community_40  -2.381e+04   2431.615     -9.791      0.000   -2.86e+04    -1.9e+04\n",
      "Community_41   4423.5915   1571.616      2.815      0.005    1342.798    7504.385\n",
      "Community_43   1920.6213    876.727      2.191      0.029     201.999    3639.243\n",
      "Community_44   4430.2609   1051.770      4.212      0.000    2368.507    6492.015\n",
      "Community_45   6702.2433   2217.375      3.023      0.003    2355.588     1.1e+04\n",
      "Community_49   4450.5376   1066.153      4.174      0.000    2360.588    6540.487\n",
      "Community_50  -4278.6336    857.530     -4.989      0.000   -5959.624   -2597.643\n",
      "Community_54   6383.8063   1510.488      4.226      0.000    3422.840    9344.772\n",
      "Community_55   5627.6390   2187.486      2.573      0.010    1339.573    9915.705\n",
      "Community_60   2436.2305   1576.059      1.546      0.122    -653.271    5525.732\n",
      "Community_62   3092.2792   1250.416      2.473      0.013     641.125    5543.433\n",
      "Community_70   5661.2971   3834.168      1.477      0.140   -1854.712    1.32e+04\n",
      "Community_81   4361.6931   2471.982      1.764      0.078    -484.061    9207.447\n",
      "Community_84   5202.8028   2879.272      1.807      0.071    -441.351    1.08e+04\n",
      "Community_116  6641.1998   2310.205      2.875      0.004    2112.573    1.12e+04\n",
      "Community_119  6129.4903   2337.483      2.622      0.009    1547.389    1.07e+04\n",
      "Community_152  1.558e+04   3545.425      4.394      0.000    8628.698    2.25e+04\n",
      "Community_166 -7729.5321   3801.304     -2.033      0.042   -1.52e+04    -277.945\n",
      "Community_174  5263.0229   3968.391      1.326      0.185   -2516.099     1.3e+04\n",
      "Community_182 -1.025e+04   4854.256     -2.111      0.035   -1.98e+04    -731.171\n",
      "Community_190  1.756e+04   5121.394      3.428      0.001    7517.487    2.76e+04\n",
      "Community_220  5970.7411   3240.372      1.843      0.065    -381.266    1.23e+04\n",
      "Community_223  1.326e+04   3156.677      4.200      0.000    7069.629    1.94e+04\n",
      "Community_224  1.137e+04   3991.732      2.850      0.004    3549.799    1.92e+04\n",
      "==============================================================================\n",
      "Omnibus:                     2048.695   Durbin-Watson:                   1.976\n",
      "Prob(Omnibus):                  0.000   Jarque-Bera (JB):           176058.606\n",
      "Skew:                           0.139   Prob(JB):                         0.00\n",
      "Kurtosis:                      26.308   Cond. No.                     4.64e+16\n",
      "==============================================================================\n",
      "\n",
      "Warnings:\n",
      "[1] Standard Errors assume that the covariance matrix of the errors is correctly specified.\n",
      "[2] The smallest eigenvalue is 1.24e-26. This might indicate that there are\n",
      "strong multicollinearity problems or that the design matrix is singular.\n"
     ]
    }
   ],
   "source": [
    "model = sm.OLS(y1, ko_X2)\n",
    "result = model.fit()\n",
    "print(result.summary())"
   ]
  },
  {
   "cell_type": "code",
   "execution_count": null,
   "metadata": {
    "collapsed": true
   },
   "outputs": [],
   "source": []
  },
  {
   "cell_type": "markdown",
   "metadata": {},
   "source": [
    "# 아웃라이어 제거"
   ]
  },
  {
   "cell_type": "code",
   "execution_count": 569,
   "metadata": {},
   "outputs": [
    {
     "data": {
      "image/png": "[encoded data removed]",
      "text/plain": [
       "<matplotlib.figure.Figure at 0x276ed208>"
      ]
     },
     "metadata": {},
     "output_type": "display_data"
    }
   ],
   "source": [
    "plt.figure()\n",
    "sp.stats.probplot(result.resid, plot = plt)\n",
    "plt.show()"
   ]
  },
  {
   "cell_type": "code",
   "execution_count": 570,
   "metadata": {
    "collapsed": true
   },
   "outputs": [],
   "source": [
    "influence = result.get_influence()\n",
    "cooks_d2, pvals = influence.cooks_distance\n",
    "fox_cr = 4 /float(len(ko_X2)-2)\n",
    "idx = np.where(cooks_d2 < fox_cr)[0]\n",
    "ko_X3 = ko_X2.ix[idx,:].reset_index(drop = 1)\n",
    "y3 = y1.ix[idx,:].reset_index(drop = 1)"
   ]
  },
  {
   "cell_type": "code",
   "execution_count": 571,
   "metadata": {},
   "outputs": [
    {
     "name": "stdout",
     "output_type": "stream",
     "text": [
      "                            OLS Regression Results                            \n",
      "==============================================================================\n",
      "Dep. Variable:      impressions_count   R-squared:                       0.838\n",
      "Model:                            OLS   Adj. R-squared:                  0.837\n",
      "Method:                 Least Squares   F-statistic:                     785.3\n",
      "Date:                Sun, 14 May 2017   Prob (F-statistic):               0.00\n",
      "Time:                        09:02:06   Log-Likelihood:                -77455.\n",
      "No. Observations:                7357   AIC:                         1.550e+05\n",
      "Df Residuals:                    7308   BIC:                         1.553e+05\n",
      "Df Model:                          48                                         \n",
      "Covariance Type:            nonrobust                                         \n",
      "=================================================================================\n",
      "                    coef    std err          t      P>|t|      [0.025      0.975]\n",
      "---------------------------------------------------------------------------------\n",
      "const          3808.9832    361.305     10.542      0.000    3100.720    4517.246\n",
      "likes_count     497.2447      3.081    161.415      0.000     491.206     503.283\n",
      "android         551.5088    189.382      2.912      0.004     180.265     922.753\n",
      "ios            1584.9760    277.491      5.712      0.000    1041.014    2128.938\n",
      "web            1672.4985    205.852      8.125      0.000    1268.970    2076.027\n",
      "ImagePost      1121.4004    492.821      2.275      0.023     155.330    2087.471\n",
      "Community_1   -2309.2506   1121.439     -2.059      0.040   -4507.595    -110.906\n",
      "Community_6    2844.0239    675.337      4.211      0.000    1520.169    4167.879\n",
      "Community_9    6169.8964   2212.283      2.789      0.005    1833.183    1.05e+04\n",
      "Community_10    1.19e+04    410.230     29.002      0.000    1.11e+04    1.27e+04\n",
      "Community_11  -6827.1528   1193.618     -5.720      0.000   -9166.988   -4487.317\n",
      "Community_13   4032.8183    764.908      5.272      0.000    2533.378    5532.259\n",
      "Community_18    831.4639    646.231      1.287      0.198    -435.335    2098.263\n",
      "Community_19   2372.6004    810.397      2.928      0.003     783.989    3961.212\n",
      "Community_20   2560.2344    648.102      3.950      0.000    1289.767    3830.702\n",
      "Community_25   3845.2624    797.210      4.823      0.000    2282.500    5408.025\n",
      "Community_26   3196.5710    739.285      4.324      0.000    1747.359    4645.783\n",
      "Community_28   3100.3790    314.400      9.861      0.000    2484.064    3716.694\n",
      "Community_29   1011.3135    533.882      1.894      0.058     -35.249    2057.876\n",
      "Community_31   1423.1623    369.078      3.856      0.000     699.662    2146.663\n",
      "Community_32   2441.0658    408.814      5.971      0.000    1639.673    3242.459\n",
      "Community_33   1520.7779    813.345      1.870      0.062     -73.614    3115.170\n",
      "Community_35   2998.6822    805.726      3.722      0.000    1419.226    4578.138\n",
      "Community_36  -7239.9235    636.006    -11.383      0.000   -8486.679   -5993.168\n",
      "Community_37   1917.7267    766.388      2.502      0.012     415.384    3420.069\n",
      "Community_39   2591.4958    882.414      2.937      0.003     861.710    4321.282\n",
      "Community_40  -2.555e+04   5399.246     -4.733      0.000   -3.61e+04    -1.5e+04\n",
      "Community_41   3019.4157   1077.119      2.803      0.005     907.951    5130.881\n",
      "Community_43   1232.2657    576.611      2.137      0.033     101.941    2362.590\n",
      "Community_44   2454.8389    707.477      3.470      0.001    1067.980    3841.698\n",
      "Community_45   6082.9889   1741.616      3.493      0.000    2668.919    9497.059\n",
      "Community_49   1777.8998    735.126      2.418      0.016     336.841    3218.959\n",
      "Community_50  -2015.0874    566.045     -3.560      0.000   -3124.699    -905.476\n",
      "Community_54   3260.6772   1096.907      2.973      0.003    1110.423    5410.932\n",
      "Community_55   2128.8339   1819.319      1.170      0.242   -1437.556    5695.223\n",
      "Community_60    745.0578   1090.706      0.683      0.495   -1393.041    2883.156\n",
      "Community_62   1587.9932    831.894      1.909      0.056     -42.759    3218.746\n",
      "Community_70   3874.6318   3820.537      1.014      0.311   -3614.723    1.14e+04\n",
      "Community_81   1.042e+04   2053.226      5.076      0.000    6396.315    1.44e+04\n",
      "Community_84   5547.5440   2318.970      2.392      0.017    1001.693    1.01e+04\n",
      "Community_116  6540.9810   1613.736      4.053      0.000    3377.592    9704.370\n",
      "Community_119  5957.4139   1788.442      3.331      0.001    2451.551    9463.277\n",
      "Community_152   1.63e+04   3435.132      4.746      0.000    9567.832     2.3e+04\n",
      "Community_166 -4511.3980   3444.156     -1.310      0.190   -1.13e+04    2240.142\n",
      "Community_174  5872.9447   3034.289      1.936      0.053     -75.138    1.18e+04\n",
      "Community_182 -9197.2760   3550.888     -2.590      0.010   -1.62e+04   -2236.510\n",
      "Community_190  1.055e+04   9122.515      1.156      0.248   -7334.066    2.84e+04\n",
      "Community_220  4102.8353   2876.218      1.426      0.154   -1535.383    9741.054\n",
      "Community_223  9714.2681   2431.689      3.995      0.000    4947.456    1.45e+04\n",
      "Community_224  5736.1476   5254.314      1.092      0.275   -4563.825     1.6e+04\n",
      "==============================================================================\n",
      "Omnibus:                      958.693   Durbin-Watson:                   1.943\n",
      "Prob(Omnibus):                  0.000   Jarque-Bera (JB):             4585.761\n",
      "Skew:                           0.547   Prob(JB):                         0.00\n",
      "Kurtosis:                       6.710   Cond. No.                     3.16e+16\n",
      "==============================================================================\n",
      "\n",
      "Warnings:\n",
      "[1] Standard Errors assume that the covariance matrix of the errors is correctly specified.\n",
      "[2] The smallest eigenvalue is 1.3e-26. This might indicate that there are\n",
      "strong multicollinearity problems or that the design matrix is singular.\n"
     ]
    }
   ],
   "source": [
    "model2 = sm.OLS(y3, ko_X3)\n",
    "result2 = model2.fit()\n",
    "print(result2.summary())"
   ]
  },
  {
   "cell_type": "code",
   "execution_count": 572,
   "metadata": {
    "scrolled": true
   },
   "outputs": [
    {
     "data": {
      "image/png": "[encoded data removed]",
      "text/plain": [
       "<matplotlib.figure.Figure at 0x23620208>"
      ]
     },
     "metadata": {},
     "output_type": "display_data"
    }
   ],
   "source": [
    "plt.figure()\n",
    "sp.stats.probplot(result2.resid, plot = plt)\n",
    "plt.show()"
   ]
  },
  {
   "cell_type": "code",
   "execution_count": 573,
   "metadata": {},
   "outputs": [
    {
     "name": "stdout",
     "output_type": "stream",
     "text": [
      "420\n"
     ]
    }
   ],
   "source": [
    "print len(ko_X2)-len(ko_X3)"
   ]
  },
  {
   "cell_type": "code",
   "execution_count": null,
   "metadata": {
    "collapsed": true
   },
   "outputs": [],
   "source": []
  },
  {
   "cell_type": "markdown",
   "metadata": {},
   "source": [
    "# 변수 선택"
   ]
  },
  {
   "cell_type": "code",
   "execution_count": 574,
   "metadata": {
    "collapsed": true
   },
   "outputs": [],
   "source": [
    "ko_X4= ko_X3.copy()\n",
    "y4 = y3.copy()"
   ]
  },
  {
   "cell_type": "code",
   "execution_count": 575,
   "metadata": {
    "collapsed": true
   },
   "outputs": [],
   "source": [
    "del ko_X4['Community_18']\n",
    "del ko_X4['Community_55']\n",
    "del ko_X4['Community_70']\n",
    "del ko_X4['Community_166']\n",
    "del ko_X4['Community_190']\n",
    "del ko_X4['Community_220']\n",
    "del ko_X4['Community_224']\n",
    "del ko_X4['web']"
   ]
  },
  {
   "cell_type": "code",
   "execution_count": 576,
   "metadata": {
    "scrolled": false
   },
   "outputs": [
    {
     "name": "stdout",
     "output_type": "stream",
     "text": [
      "                            OLS Regression Results                            \n",
      "==============================================================================\n",
      "Dep. Variable:      impressions_count   R-squared:                       0.837\n",
      "Model:                            OLS   Adj. R-squared:                  0.836\n",
      "Method:                 Least Squares   F-statistic:                     918.8\n",
      "Date:                Sun, 14 May 2017   Prob (F-statistic):               0.00\n",
      "Time:                        09:02:07   Log-Likelihood:                -77460.\n",
      "No. Observations:                7357   AIC:                         1.550e+05\n",
      "Df Residuals:                    7315   BIC:                         1.553e+05\n",
      "Df Model:                          41                                         \n",
      "Covariance Type:            nonrobust                                         \n",
      "=================================================================================\n",
      "                    coef    std err          t      P>|t|      [0.025      0.975]\n",
      "---------------------------------------------------------------------------------\n",
      "const          5465.5636    510.153     10.714      0.000    4465.517    6465.610\n",
      "likes_count     497.9007      3.050    163.256      0.000     491.922     503.879\n",
      "android       -1118.7313    251.978     -4.440      0.000   -1612.680    -624.782\n",
      "ios             -95.1214    362.041     -0.263      0.793    -804.826     614.583\n",
      "ImagePost      1147.3803    492.551      2.329      0.020     181.838    2112.923\n",
      "Community_1   -2336.7323   1121.495     -2.084      0.037   -4535.186    -138.278\n",
      "Community_6    2801.1648    675.208      4.149      0.000    1477.562    4124.767\n",
      "Community_9    6129.9798   2211.954      2.771      0.006    1793.913    1.05e+04\n",
      "Community_10   1.197e+04    406.132     29.477      0.000    1.12e+04    1.28e+04\n",
      "Community_11  -6871.3517   1193.570     -5.757      0.000   -9211.093   -4531.611\n",
      "Community_13   3984.5378    764.484      5.212      0.000    2485.928    5483.147\n",
      "Community_19   2503.0737    802.959      3.117      0.002     929.043    4077.105\n",
      "Community_20   2613.1177    642.594      4.067      0.000    1353.447    3872.788\n",
      "Community_25   3827.2613    797.262      4.801      0.000    2264.399    5390.124\n",
      "Community_26   3223.6196    739.330      4.360      0.000    1774.319    4672.920\n",
      "Community_28   3083.4669    314.208      9.813      0.000    2467.528    3699.405\n",
      "Community_29    982.2164    533.398      1.841      0.066     -63.397    2027.830\n",
      "Community_31   1552.2661    360.160      4.310      0.000     846.248    2258.284\n",
      "Community_32   2483.2602    407.489      6.094      0.000    1684.464    3282.056\n",
      "Community_33   1537.5332    812.551      1.892      0.058     -55.302    3130.368\n",
      "Community_35   2976.5161    805.607      3.695      0.000    1397.294    4555.738\n",
      "Community_36  -6854.0948    555.798    -12.332      0.000   -7943.620   -5764.569\n",
      "Community_37   1923.7858    764.467      2.517      0.012     425.209    3422.362\n",
      "Community_39   2589.0748    882.563      2.934      0.003     858.997    4319.153\n",
      "Community_40  -2.435e+04   5248.601     -4.640      0.000   -3.46e+04   -1.41e+04\n",
      "Community_41   2975.1438   1076.439      2.764      0.006     865.014    5085.274\n",
      "Community_43   1194.9124    576.472      2.073      0.038      64.860    2324.965\n",
      "Community_44   2423.3360    707.474      3.425      0.001    1036.482    3810.190\n",
      "Community_45   6064.5414   1741.948      3.481      0.001    2649.820    9479.263\n",
      "Community_49   1741.7992    734.686      2.371      0.018     301.603    3181.995\n",
      "Community_50  -2035.2529    565.802     -3.597      0.000   -3144.387    -926.119\n",
      "Community_54   3268.0557   1095.381      2.983      0.003    1120.793    5415.318\n",
      "Community_60    725.3475   1090.828      0.665      0.506   -1412.990    2863.685\n",
      "Community_62   1558.1874    831.908      1.873      0.061     -72.592    3188.967\n",
      "Community_81   1.188e+04   1641.803      7.236      0.000    8662.128    1.51e+04\n",
      "Community_84   5572.7756   2318.875      2.403      0.016    1027.112    1.01e+04\n",
      "Community_116  6512.7532   1613.990      4.035      0.000    3348.868    9676.639\n",
      "Community_119  5942.4666   1788.775      3.322      0.001    2435.952    9448.982\n",
      "Community_152  1.626e+04   3435.765      4.732      0.000    9522.560     2.3e+04\n",
      "Community_174  5859.5008   3034.884      1.931      0.054     -89.746    1.18e+04\n",
      "Community_182 -8584.7896   3516.453     -2.441      0.015   -1.55e+04   -1691.529\n",
      "Community_223  9618.5877   2431.781      3.955      0.000    4851.596    1.44e+04\n",
      "==============================================================================\n",
      "Omnibus:                      944.146   Durbin-Watson:                   1.941\n",
      "Prob(Omnibus):                  0.000   Jarque-Bera (JB):             4564.032\n",
      "Skew:                           0.533   Prob(JB):                         0.00\n",
      "Kurtosis:                       6.708   Cond. No.                     2.08e+03\n",
      "==============================================================================\n",
      "\n",
      "Warnings:\n",
      "[1] Standard Errors assume that the covariance matrix of the errors is correctly specified.\n",
      "[2] The condition number is large, 2.08e+03. This might indicate that there are\n",
      "strong multicollinearity or other numerical problems.\n"
     ]
    }
   ],
   "source": [
    "model3 = sm.OLS(y4, ko_X4)\n",
    "result3 = model3.fit()\n",
    "print(result3.summary())"
   ]
  },
  {
   "cell_type": "code",
   "execution_count": null,
   "metadata": {
    "collapsed": true
   },
   "outputs": [],
   "source": []
  },
  {
   "cell_type": "markdown",
   "metadata": {},
   "source": [
    "# 스케일링"
   ]
  },
  {
   "cell_type": "code",
   "execution_count": 577,
   "metadata": {
    "collapsed": true
   },
   "outputs": [],
   "source": [
    "ko_X5 = ko_X4.copy()\n",
    "y5 = y4.copy()"
   ]
  },
  {
   "cell_type": "code",
   "execution_count": 578,
   "metadata": {},
   "outputs": [
    {
     "data": {
      "text/plain": [
       "Index([u'const', u'likes_count', u'android', u'ios', u'ImagePost',\n",
       "       u'Community_1', u'Community_6', u'Community_9', u'Community_10',\n",
       "       u'Community_11', u'Community_13', u'Community_19', u'Community_20',\n",
       "       u'Community_25', u'Community_26', u'Community_28', u'Community_29',\n",
       "       u'Community_31', u'Community_32', u'Community_33', u'Community_35',\n",
       "       u'Community_36', u'Community_37', u'Community_39', u'Community_40',\n",
       "       u'Community_41', u'Community_43', u'Community_44', u'Community_45',\n",
       "       u'Community_49', u'Community_50', u'Community_54', u'Community_60',\n",
       "       u'Community_62', u'Community_81', u'Community_84', u'Community_116',\n",
       "       u'Community_119', u'Community_152', u'Community_174', u'Community_182',\n",
       "       u'Community_223'],\n",
       "      dtype='object')"
      ]
     },
     "execution_count": 578,
     "metadata": {},
     "output_type": "execute_result"
    }
   ],
   "source": [
    "ko_X5.columns"
   ]
  },
  {
   "cell_type": "code",
   "execution_count": 579,
   "metadata": {
    "collapsed": true
   },
   "outputs": [],
   "source": [
    "scaler = StandardScaler()"
   ]
  },
  {
   "cell_type": "code",
   "execution_count": 580,
   "metadata": {
    "collapsed": true
   },
   "outputs": [],
   "source": [
    "ko_X6 = pd.DataFrame(scaler.fit_transform(ko_X5.ix[:, 1:2]), columns=ko_X5.columns[1:2])\n",
    "y6  = pd.DataFrame(scaler.fit_transform(y5), columns= y5.columns)"
   ]
  },
  {
   "cell_type": "code",
   "execution_count": 581,
   "metadata": {
    "collapsed": true
   },
   "outputs": [],
   "source": [
    "ko_X6= ko_X6.join(ko_X5.reset_index(drop=1).ix[:,2:])"
   ]
  },
  {
   "cell_type": "code",
   "execution_count": 582,
   "metadata": {
    "scrolled": true
   },
   "outputs": [
    {
     "data": {
      "text/plain": [
       "Index([u'const', u'likes_count', u'android', u'ios', u'ImagePost',\n",
       "       u'Community_1', u'Community_6', u'Community_9', u'Community_10',\n",
       "       u'Community_11', u'Community_13', u'Community_19', u'Community_20',\n",
       "       u'Community_25', u'Community_26', u'Community_28', u'Community_29',\n",
       "       u'Community_31', u'Community_32', u'Community_33', u'Community_35',\n",
       "       u'Community_36', u'Community_37', u'Community_39', u'Community_40',\n",
       "       u'Community_41', u'Community_43', u'Community_44', u'Community_45',\n",
       "       u'Community_49', u'Community_50', u'Community_54', u'Community_60',\n",
       "       u'Community_62', u'Community_81', u'Community_84', u'Community_116',\n",
       "       u'Community_119', u'Community_152', u'Community_174', u'Community_182',\n",
       "       u'Community_223'],\n",
       "      dtype='object')"
      ]
     },
     "execution_count": 582,
     "metadata": {},
     "output_type": "execute_result"
    }
   ],
   "source": [
    "ko_X6 = sm.add_constant(ko_X6, has_constant='add')\n",
    "ko_X6.columns"
   ]
  },
  {
   "cell_type": "code",
   "execution_count": null,
   "metadata": {
    "collapsed": true
   },
   "outputs": [],
   "source": []
  },
  {
   "cell_type": "markdown",
   "metadata": {},
   "source": [
    "# 최종 모형"
   ]
  },
  {
   "cell_type": "code",
   "execution_count": 583,
   "metadata": {
    "scrolled": true
   },
   "outputs": [
    {
     "name": "stdout",
     "output_type": "stream",
     "text": [
      "                            OLS Regression Results                            \n",
      "==============================================================================\n",
      "Dep. Variable:      impressions_count   R-squared:                       0.837\n",
      "Model:                            OLS   Adj. R-squared:                  0.836\n",
      "Method:                 Least Squares   F-statistic:                     918.8\n",
      "Date:                Sun, 14 May 2017   Prob (F-statistic):               0.00\n",
      "Time:                        09:02:08   Log-Likelihood:                -3757.4\n",
      "No. Observations:                7357   AIC:                             7599.\n",
      "Df Residuals:                    7315   BIC:                             7889.\n",
      "Df Model:                          41                                         \n",
      "Covariance Type:            nonrobust                                         \n",
      "=================================================================================\n",
      "                    coef    std err          t      P>|t|      [0.025      0.975]\n",
      "---------------------------------------------------------------------------------\n",
      "const            -0.1789      0.023     -7.825      0.000      -0.224      -0.134\n",
      "likes_count       0.8509      0.005    163.256      0.000       0.841       0.861\n",
      "android          -0.0499      0.011     -4.440      0.000      -0.072      -0.028\n",
      "ios              -0.0042      0.016     -0.263      0.793      -0.036       0.027\n",
      "ImagePost         0.0512      0.022      2.329      0.020       0.008       0.094\n",
      "Community_1      -0.1042      0.050     -2.084      0.037      -0.202      -0.006\n",
      "Community_6       0.1249      0.030      4.149      0.000       0.066       0.184\n",
      "Community_9       0.2733      0.099      2.771      0.006       0.080       0.467\n",
      "Community_10      0.5338      0.018     29.477      0.000       0.498       0.569\n",
      "Community_11     -0.3064      0.053     -5.757      0.000      -0.411      -0.202\n",
      "Community_13      0.1777      0.034      5.212      0.000       0.111       0.245\n",
      "Community_19      0.1116      0.036      3.117      0.002       0.041       0.182\n",
      "Community_20      0.1165      0.029      4.067      0.000       0.060       0.173\n",
      "Community_25      0.1707      0.036      4.801      0.000       0.101       0.240\n",
      "Community_26      0.1437      0.033      4.360      0.000       0.079       0.208\n",
      "Community_28      0.1375      0.014      9.813      0.000       0.110       0.165\n",
      "Community_29      0.0438      0.024      1.841      0.066      -0.003       0.090\n",
      "Community_31      0.0692      0.016      4.310      0.000       0.038       0.101\n",
      "Community_32      0.1107      0.018      6.094      0.000       0.075       0.146\n",
      "Community_33      0.0686      0.036      1.892      0.058      -0.002       0.140\n",
      "Community_35      0.1327      0.036      3.695      0.000       0.062       0.203\n",
      "Community_36     -0.3056      0.025    -12.332      0.000      -0.354      -0.257\n",
      "Community_37      0.0858      0.034      2.517      0.012       0.019       0.153\n",
      "Community_39      0.1155      0.039      2.934      0.003       0.038       0.193\n",
      "Community_40     -1.0859      0.234     -4.640      0.000      -1.545      -0.627\n",
      "Community_41      0.1327      0.048      2.764      0.006       0.039       0.227\n",
      "Community_43      0.0533      0.026      2.073      0.038       0.003       0.104\n",
      "Community_44      0.1081      0.032      3.425      0.001       0.046       0.170\n",
      "Community_45      0.2704      0.078      3.481      0.001       0.118       0.423\n",
      "Community_49      0.0777      0.033      2.371      0.018       0.013       0.142\n",
      "Community_50     -0.0908      0.025     -3.597      0.000      -0.140      -0.041\n",
      "Community_54      0.1457      0.049      2.983      0.003       0.050       0.241\n",
      "Community_60      0.0323      0.049      0.665      0.506      -0.063       0.128\n",
      "Community_62      0.0695      0.037      1.873      0.061      -0.003       0.142\n",
      "Community_81      0.5298      0.073      7.236      0.000       0.386       0.673\n",
      "Community_84      0.2485      0.103      2.403      0.016       0.046       0.451\n",
      "Community_116     0.2904      0.072      4.035      0.000       0.149       0.431\n",
      "Community_119     0.2650      0.080      3.322      0.001       0.109       0.421\n",
      "Community_152     0.7250      0.153      4.732      0.000       0.425       1.025\n",
      "Community_174     0.2613      0.135      1.931      0.054      -0.004       0.527\n",
      "Community_182    -0.3828      0.157     -2.441      0.015      -0.690      -0.075\n",
      "Community_223     0.4289      0.108      3.955      0.000       0.216       0.641\n",
      "==============================================================================\n",
      "Omnibus:                      944.146   Durbin-Watson:                   1.941\n",
      "Prob(Omnibus):                  0.000   Jarque-Bera (JB):             4564.032\n",
      "Skew:                           0.533   Prob(JB):                         0.00\n",
      "Kurtosis:                       6.708   Cond. No.                         72.9\n",
      "==============================================================================\n",
      "\n",
      "Warnings:\n",
      "[1] Standard Errors assume that the covariance matrix of the errors is correctly specified.\n"
     ]
    }
   ],
   "source": [
    "model4 = sm.OLS(y6.reset_index(drop = 1), ko_X6)\n",
    "result4 = model4.fit()\n",
    "print(result4.summary())"
   ]
  },
  {
   "cell_type": "code",
   "execution_count": null,
   "metadata": {
    "collapsed": true
   },
   "outputs": [],
   "source": []
  },
  {
   "cell_type": "markdown",
   "metadata": {
    "collapsed": true
   },
   "source": [
    "# 교차 검증"
   ]
  },
  {
   "cell_type": "code",
   "execution_count": 584,
   "metadata": {
    "collapsed": true
   },
   "outputs": [],
   "source": [
    "X = ko_X6.ix[:,1:].values\n",
    "y = y6.values"
   ]
  },
  {
   "cell_type": "code",
   "execution_count": 585,
   "metadata": {},
   "outputs": [
    {
     "data": {
      "text/plain": [
       "array([ 0.80598179,  0.82234133,  0.83820592,  0.84229314,  0.85408687])"
      ]
     },
     "execution_count": 585,
     "metadata": {},
     "output_type": "execute_result"
    }
   ],
   "source": [
    "from sklearn.cross_validation import KFold\n",
    "from sklearn.metrics import mean_squared_error\n",
    "from sklearn.metrics import r2_score\n",
    "from sklearn.linear_model import LinearRegression\n",
    "model5 = LinearRegression()\n",
    "cv = KFold(len(ko_X6), n_folds=5, random_state=0)\n",
    "\n",
    "scores = np.zeros(5)\n",
    "for i, (train_index, test_index) in enumerate(cv):\n",
    "    X_train = X[train_index]\n",
    "    y_train = y[train_index]\n",
    "    X_test = X[test_index]\n",
    "    y_test = y[test_index]\n",
    "    model5.fit(X_train, y_train)\n",
    "    y_pred = model5.predict(X_test)\n",
    "    scores[i] = r2_score(y_test, y_pred)\n",
    "\n",
    "scores"
   ]
  },
  {
   "cell_type": "code",
   "execution_count": 586,
   "metadata": {
    "scrolled": true
   },
   "outputs": [
    {
     "data": {
      "text/plain": [
       "0.83258180977633955"
      ]
     },
     "execution_count": 586,
     "metadata": {},
     "output_type": "execute_result"
    }
   ],
   "source": [
    "scores.mean()"
   ]
  },
  {
   "cell_type": "code",
   "execution_count": null,
   "metadata": {
    "collapsed": true
   },
   "outputs": [],
   "source": []
  },
  {
   "cell_type": "markdown",
   "metadata": {},
   "source": [
    "# 2. 예측 with test_set"
   ]
  },
  {
   "cell_type": "code",
   "execution_count": 621,
   "metadata": {},
   "outputs": [
    {
     "data": {
      "text/plain": [
       "(150, 21)"
      ]
     },
     "execution_count": 621,
     "metadata": {},
     "output_type": "execute_result"
    }
   ],
   "source": [
    "test.shape"
   ]
  },
  {
   "cell_type": "code",
   "execution_count": 622,
   "metadata": {
    "collapsed": true
   },
   "outputs": [],
   "source": [
    "test_X = pd.DataFrame(test[test['language_code'] == 'ko'],columns = ['id','likes_count','via','category','communities'])"
   ]
  },
  {
   "cell_type": "code",
   "execution_count": 623,
   "metadata": {
    "collapsed": true
   },
   "outputs": [],
   "source": [
    "test_X = test_X.reset_index(drop = 1)"
   ]
  },
  {
   "cell_type": "code",
   "execution_count": 624,
   "metadata": {
    "scrolled": false
   },
   "outputs": [
    {
     "data": {
      "text/plain": [
       "(118, 5)"
      ]
     },
     "execution_count": 624,
     "metadata": {},
     "output_type": "execute_result"
    }
   ],
   "source": [
    "test_X.shape"
   ]
  },
  {
   "cell_type": "code",
   "execution_count": 625,
   "metadata": {
    "collapsed": true
   },
   "outputs": [],
   "source": [
    "via_dum = pd.DataFrame(np.zeros((len(test_X),3)),columns = ['android','ios','web'])\n",
    "for i, via in enumerate(test_X.via):\n",
    "    if via == 'android':\n",
    "        via_dum.ix[i, 0] = 1\n",
    "    elif via == 'ios':\n",
    "        via_dum.ix[i,1] = 1\n",
    "    elif via == 'web':\n",
    "        via_dum.ix[i,2] = 1\n",
    "test_X = test_X.join(via_dum)"
   ]
  },
  {
   "cell_type": "code",
   "execution_count": 626,
   "metadata": {
    "collapsed": true
   },
   "outputs": [],
   "source": [
    "category_dum = pd.DataFrame(np.zeros((len(test_X),2)),columns = ['ImagePost','TextPost'])\n",
    "for i, category in enumerate(test_X.category):\n",
    "    if category == 'ImagePost':\n",
    "        category_dum.ix[i,0] = 1\n",
    "    elif category == 'TextPost':\n",
    "        category_dum.ix[i,1] = 1\n",
    "test_X = test_X.join(category_dum)"
   ]
  },
  {
   "cell_type": "code",
   "execution_count": 627,
   "metadata": {
    "collapsed": true
   },
   "outputs": [],
   "source": [
    "community_dum = pd.DataFrame(np.zeros((len(test_X),len(community))),columns = community)\n",
    "for i, communities in enumerate(test_X.communities):\n",
    "    try:\n",
    "        l = re.sub(r'[{}]','',communities)\n",
    "        l = re.split(',',l)\n",
    "        for c in l:\n",
    "            c = c.encode('utf-8')\n",
    "            if c in community:\n",
    "                community_dum.ix[i,c] = 1\n",
    "    except:\n",
    "        pass"
   ]
  },
  {
   "cell_type": "code",
   "execution_count": 628,
   "metadata": {
    "collapsed": true
   },
   "outputs": [],
   "source": [
    "co = np.arange(len(community))\n",
    "community_dum.columns = co\n",
    "test_X = test_X.join(community_dum.add_prefix('Community_'))"
   ]
  },
  {
   "cell_type": "code",
   "execution_count": 629,
   "metadata": {
    "scrolled": true
   },
   "outputs": [
    {
     "data": {
      "text/plain": [
       "Index([u'id', u'likes_count', u'via', u'category', u'communities', u'android',\n",
       "       u'ios', u'web', u'ImagePost', u'TextPost',\n",
       "       ...\n",
       "       u'Community_260', u'Community_261', u'Community_262', u'Community_263',\n",
       "       u'Community_264', u'Community_265', u'Community_266', u'Community_267',\n",
       "       u'Community_268', u'Community_269'],\n",
       "      dtype='object', length=280)"
      ]
     },
     "execution_count": 629,
     "metadata": {},
     "output_type": "execute_result"
    }
   ],
   "source": [
    "test_X.columns"
   ]
  },
  {
   "cell_type": "code",
   "execution_count": 630,
   "metadata": {
    "collapsed": true
   },
   "outputs": [],
   "source": [
    "test_X2 = pd.DataFrame(test_X, columns = ['const','likes_count','android','ios','ImagePost','Community_1','Community_6','Community_9','Community_10','Community_11','Community_13','Community_19','Community_20','Community_25','Community_26','Community_28','Community_29','Community_31','Community_32','Community_33','Community_35','Community_36','Community_37','Community_39','Community_40','Community_41','Community_43','Community_44','Community_45','Community_49','Community_50','Community_54','Community_60','Community_62','Community_81','Community_84','Community_116','Community_119','Community_152','Community_174','Community_182','Community_223'])"
   ]
  },
  {
   "cell_type": "code",
   "execution_count": 631,
   "metadata": {
    "collapsed": true
   },
   "outputs": [],
   "source": [
    "test_X3 = pd.DataFrame(scaler.transform(test_X2.ix[:, 1:2]), columns=test_X2.columns[1:2])"
   ]
  },
  {
   "cell_type": "code",
   "execution_count": 632,
   "metadata": {
    "collapsed": true
   },
   "outputs": [],
   "source": [
    "test_X3= test_X3.join(test_X2.reset_index(drop=1).ix[:,2:])"
   ]
  },
  {
   "cell_type": "code",
   "execution_count": 633,
   "metadata": {
    "scrolled": true
   },
   "outputs": [
    {
     "data": {
      "text/plain": [
       "Index([u'const', u'likes_count', u'android', u'ios', u'ImagePost',\n",
       "       u'Community_1', u'Community_6', u'Community_9', u'Community_10',\n",
       "       u'Community_11', u'Community_13', u'Community_19', u'Community_20',\n",
       "       u'Community_25', u'Community_26', u'Community_28', u'Community_29',\n",
       "       u'Community_31', u'Community_32', u'Community_33', u'Community_35',\n",
       "       u'Community_36', u'Community_37', u'Community_39', u'Community_40',\n",
       "       u'Community_41', u'Community_43', u'Community_44', u'Community_45',\n",
       "       u'Community_49', u'Community_50', u'Community_54', u'Community_60',\n",
       "       u'Community_62', u'Community_81', u'Community_84', u'Community_116',\n",
       "       u'Community_119', u'Community_152', u'Community_174', u'Community_182',\n",
       "       u'Community_223'],\n",
       "      dtype='object')"
      ]
     },
     "execution_count": 633,
     "metadata": {},
     "output_type": "execute_result"
    }
   ],
   "source": [
    "test_X3 = sm.add_constant(test_X3, has_constant='add')\n",
    "test_X3.columns"
   ]
  },
  {
   "cell_type": "code",
   "execution_count": 620,
   "metadata": {
    "collapsed": true
   },
   "outputs": [],
   "source": [
    "#test_id = test_X3['id']"
   ]
  },
  {
   "cell_type": "code",
   "execution_count": 635,
   "metadata": {
    "collapsed": true
   },
   "outputs": [],
   "source": [
    "pred = result4.predict(test_X3)"
   ]
  },
  {
   "cell_type": "code",
   "execution_count": 636,
   "metadata": {
    "collapsed": true
   },
   "outputs": [],
   "source": [
    "y = scaler.inverse_transform(pred)"
   ]
  },
  {
   "cell_type": "code",
   "execution_count": 637,
   "metadata": {},
   "outputs": [
    {
     "name": "stdout",
     "output_type": "stream",
     "text": [
      "[  -274.52983758    792.5974831    8289.13300095    270.87579012\n",
      "   9206.71477897   1369.45415356   2518.91108468   -191.32068291\n",
      "  17511.69086878   2614.09848424    801.10622023   4929.97599023\n",
      "   -191.32068291  -1298.13976258  11785.32571176  -1308.35024713\n",
      "   8295.52765791  -4494.38689044  -1310.90286826  -1435.52409707\n",
      "   2609.84411568  -9330.4857527    4162.11021502   1956.30193283\n",
      "  11891.68492583  -7034.35411334   1360.09454272  -8123.30484504\n",
      "   2897.25143964  12417.7532539    7692.95032722   5514.623505\n",
      "   2975.70829034   8715.70937849   1489.41105661   -191.32068291\n",
      "   4465.92719302   2904.05842934   1361.79629015  -1309.20112084\n",
      "  12830.13622882   -181.96107207   -115.9904604   19031.62376705\n",
      "  -4581.1139779    2892.99707108  13981.93158522  -1340.40271043\n",
      "  14076.37856731  -1308.35024713  -3641.67906815  -1311.75374198\n",
      "   -288.14381698   2946.60211497    777.93854288  -1309.20112084\n",
      "  -2459.13402206   5414.96725982   5413.6956975    2615.80023167\n",
      "  11945.28996971   2897.25143964   2330.98158214   9629.18514643\n",
      "   -193.02243034   -173.45233495  -2082.52644905    616.28642748\n",
      "   -182.81194579  -1311.75374198  13998.94905947   2298.74648986\n",
      "  13980.22983779   6665.6166441    4442.71054929    790.04486196\n",
      "   1359.24366901  14077.22944102   -193.02243034  -7095.44055149\n",
      "  -1308.35024713   5391.57298098  -1302.39413114  -3345.30486292\n",
      "   3328.23360621    789.19398825   1821.06381363   -186.21544064\n",
      "   2892.14619737  -4490.13252188   6280.73167066  17993.58588039\n",
      "  -8124.15571875  -1310.90286826  -2323.39668536  -7043.71372418\n",
      "  -1308.35024713  -1311.75374198   1372.82286591   5091.40255132\n",
      "   2971.73078845   -285.59119585  -1311.75374198   5217.51181503\n",
      "   -284.74032213  -2228.27529871    856.89332899   -531.94472632\n",
      "   5427.40208642   -114.74204879   8563.20582812  13813.87680884\n",
      "  16085.04917955  11781.92221691   4093.86559493   6975.607397\n",
      "    790.89573568    792.5974831 ]\n"
     ]
    }
   ],
   "source": [
    "print y"
   ]
  },
  {
   "cell_type": "code",
   "execution_count": 638,
   "metadata": {},
   "outputs": [
    {
     "data": {
      "text/html": [
       "<div>\n",
       "<table border=\"1\" class=\"dataframe\">\n",
       "  <thead>\n",
       "    <tr style=\"text-align: right;\">\n",
       "      <th></th>\n",
       "      <th>0</th>\n",
       "    </tr>\n",
       "  </thead>\n",
       "  <tbody>\n",
       "    <tr>\n",
       "      <th>count</th>\n",
       "      <td>118.000000</td>\n",
       "    </tr>\n",
       "    <tr>\n",
       "      <th>mean</th>\n",
       "      <td>2771.789533</td>\n",
       "    </tr>\n",
       "    <tr>\n",
       "      <th>std</th>\n",
       "      <td>5846.516707</td>\n",
       "    </tr>\n",
       "    <tr>\n",
       "      <th>min</th>\n",
       "      <td>-9330.485753</td>\n",
       "    </tr>\n",
       "    <tr>\n",
       "      <th>25%</th>\n",
       "      <td>-1301.330539</td>\n",
       "    </tr>\n",
       "    <tr>\n",
       "      <th>50%</th>\n",
       "      <td>1360.945416</td>\n",
       "    </tr>\n",
       "    <tr>\n",
       "      <th>75%</th>\n",
       "      <td>5408.165018</td>\n",
       "    </tr>\n",
       "    <tr>\n",
       "      <th>max</th>\n",
       "      <td>19031.623767</td>\n",
       "    </tr>\n",
       "  </tbody>\n",
       "</table>\n",
       "</div>"
      ],
      "text/plain": [
       "                  0\n",
       "count    118.000000\n",
       "mean    2771.789533\n",
       "std     5846.516707\n",
       "min    -9330.485753\n",
       "25%    -1301.330539\n",
       "50%     1360.945416\n",
       "75%     5408.165018\n",
       "max    19031.623767"
      ]
     },
     "execution_count": 638,
     "metadata": {},
     "output_type": "execute_result"
    }
   ],
   "source": [
    "pd.DataFrame(y).describe()"
   ]
  },
  {
   "cell_type": "code",
   "execution_count": 639,
   "metadata": {},
   "outputs": [
    {
     "data": {
      "text/plain": [
       "count      9789.000000\n",
       "mean      16814.357646\n",
       "std       27067.936172\n",
       "min           0.000000\n",
       "25%        1117.000000\n",
       "50%        8024.000000\n",
       "75%       18785.000000\n",
       "max      313495.000000\n",
       "Name: impressions_count, dtype: float64"
      ]
     },
     "execution_count": 639,
     "metadata": {},
     "output_type": "execute_result"
    }
   ],
   "source": [
    "train['impressions_count'].describe()"
   ]
  },
  {
   "cell_type": "code",
   "execution_count": null,
   "metadata": {
    "collapsed": true
   },
   "outputs": [],
   "source": []
  },
  {
   "cell_type": "markdown",
   "metadata": {},
   "source": [
    "# 예측 결과"
   ]
  },
  {
   "cell_type": "code",
   "execution_count": 642,
   "metadata": {
    "collapsed": true
   },
   "outputs": [],
   "source": [
    "test_id = pd.DataFrame(test_id)\n",
    "y = pd.DataFrame(y)\n",
    "result = pd.concat([test_id ,y],axis = 1)"
   ]
  },
  {
   "cell_type": "code",
   "execution_count": 641,
   "metadata": {},
   "outputs": [
    {
     "data": {
      "text/html": [
       "<div>\n",
       "<table border=\"1\" class=\"dataframe\">\n",
       "  <thead>\n",
       "    <tr style=\"text-align: right;\">\n",
       "      <th></th>\n",
       "      <th>id</th>\n",
       "      <th>0</th>\n",
       "    </tr>\n",
       "  </thead>\n",
       "  <tbody>\n",
       "    <tr>\n",
       "      <th>0</th>\n",
       "      <td>2054531</td>\n",
       "      <td>-274.529838</td>\n",
       "    </tr>\n",
       "    <tr>\n",
       "      <th>1</th>\n",
       "      <td>2054593</td>\n",
       "      <td>792.597483</td>\n",
       "    </tr>\n",
       "    <tr>\n",
       "      <th>2</th>\n",
       "      <td>2054646</td>\n",
       "      <td>8289.133001</td>\n",
       "    </tr>\n",
       "    <tr>\n",
       "      <th>3</th>\n",
       "      <td>2051444</td>\n",
       "      <td>270.875790</td>\n",
       "    </tr>\n",
       "    <tr>\n",
       "      <th>4</th>\n",
       "      <td>2051474</td>\n",
       "      <td>9206.714779</td>\n",
       "    </tr>\n",
       "    <tr>\n",
       "      <th>5</th>\n",
       "      <td>2054690</td>\n",
       "      <td>1369.454154</td>\n",
       "    </tr>\n",
       "    <tr>\n",
       "      <th>6</th>\n",
       "      <td>2051536</td>\n",
       "      <td>2518.911085</td>\n",
       "    </tr>\n",
       "    <tr>\n",
       "      <th>7</th>\n",
       "      <td>2051545</td>\n",
       "      <td>-191.320683</td>\n",
       "    </tr>\n",
       "    <tr>\n",
       "      <th>8</th>\n",
       "      <td>2051550</td>\n",
       "      <td>17511.690869</td>\n",
       "    </tr>\n",
       "    <tr>\n",
       "      <th>9</th>\n",
       "      <td>2054836</td>\n",
       "      <td>2614.098484</td>\n",
       "    </tr>\n",
       "    <tr>\n",
       "      <th>10</th>\n",
       "      <td>2054876</td>\n",
       "      <td>801.106220</td>\n",
       "    </tr>\n",
       "    <tr>\n",
       "      <th>11</th>\n",
       "      <td>2054915</td>\n",
       "      <td>4929.975990</td>\n",
       "    </tr>\n",
       "    <tr>\n",
       "      <th>12</th>\n",
       "      <td>2051590</td>\n",
       "      <td>-191.320683</td>\n",
       "    </tr>\n",
       "    <tr>\n",
       "      <th>13</th>\n",
       "      <td>2051885</td>\n",
       "      <td>-1298.139763</td>\n",
       "    </tr>\n",
       "    <tr>\n",
       "      <th>14</th>\n",
       "      <td>2056300</td>\n",
       "      <td>11785.325712</td>\n",
       "    </tr>\n",
       "    <tr>\n",
       "      <th>15</th>\n",
       "      <td>2056702</td>\n",
       "      <td>-1308.350247</td>\n",
       "    </tr>\n",
       "    <tr>\n",
       "      <th>16</th>\n",
       "      <td>2056767</td>\n",
       "      <td>8295.527658</td>\n",
       "    </tr>\n",
       "    <tr>\n",
       "      <th>17</th>\n",
       "      <td>2056783</td>\n",
       "      <td>-4494.386890</td>\n",
       "    </tr>\n",
       "    <tr>\n",
       "      <th>18</th>\n",
       "      <td>2056820</td>\n",
       "      <td>-1310.902868</td>\n",
       "    </tr>\n",
       "    <tr>\n",
       "      <th>19</th>\n",
       "      <td>2056903</td>\n",
       "      <td>-1435.524097</td>\n",
       "    </tr>\n",
       "    <tr>\n",
       "      <th>20</th>\n",
       "      <td>2056945</td>\n",
       "      <td>2609.844116</td>\n",
       "    </tr>\n",
       "    <tr>\n",
       "      <th>21</th>\n",
       "      <td>2049920</td>\n",
       "      <td>-9330.485753</td>\n",
       "    </tr>\n",
       "    <tr>\n",
       "      <th>22</th>\n",
       "      <td>2049921</td>\n",
       "      <td>4162.110215</td>\n",
       "    </tr>\n",
       "    <tr>\n",
       "      <th>23</th>\n",
       "      <td>2049983</td>\n",
       "      <td>1956.301933</td>\n",
       "    </tr>\n",
       "    <tr>\n",
       "      <th>24</th>\n",
       "      <td>2050058</td>\n",
       "      <td>11891.684926</td>\n",
       "    </tr>\n",
       "    <tr>\n",
       "      <th>25</th>\n",
       "      <td>2050126</td>\n",
       "      <td>-7034.354113</td>\n",
       "    </tr>\n",
       "    <tr>\n",
       "      <th>26</th>\n",
       "      <td>2050129</td>\n",
       "      <td>1360.094543</td>\n",
       "    </tr>\n",
       "    <tr>\n",
       "      <th>27</th>\n",
       "      <td>2052863</td>\n",
       "      <td>-8123.304845</td>\n",
       "    </tr>\n",
       "    <tr>\n",
       "      <th>28</th>\n",
       "      <td>2050136</td>\n",
       "      <td>2897.251440</td>\n",
       "    </tr>\n",
       "    <tr>\n",
       "      <th>29</th>\n",
       "      <td>2052883</td>\n",
       "      <td>12417.753254</td>\n",
       "    </tr>\n",
       "    <tr>\n",
       "      <th>...</th>\n",
       "      <td>...</td>\n",
       "      <td>...</td>\n",
       "    </tr>\n",
       "    <tr>\n",
       "      <th>88</th>\n",
       "      <td>2052486</td>\n",
       "      <td>2892.146197</td>\n",
       "    </tr>\n",
       "    <tr>\n",
       "      <th>89</th>\n",
       "      <td>2052504</td>\n",
       "      <td>-4490.132522</td>\n",
       "    </tr>\n",
       "    <tr>\n",
       "      <th>90</th>\n",
       "      <td>2052519</td>\n",
       "      <td>6280.731671</td>\n",
       "    </tr>\n",
       "    <tr>\n",
       "      <th>91</th>\n",
       "      <td>2052540</td>\n",
       "      <td>17993.585880</td>\n",
       "    </tr>\n",
       "    <tr>\n",
       "      <th>92</th>\n",
       "      <td>2052606</td>\n",
       "      <td>-8124.155719</td>\n",
       "    </tr>\n",
       "    <tr>\n",
       "      <th>93</th>\n",
       "      <td>2052706</td>\n",
       "      <td>-1310.902868</td>\n",
       "    </tr>\n",
       "    <tr>\n",
       "      <th>94</th>\n",
       "      <td>2052727</td>\n",
       "      <td>-2323.396685</td>\n",
       "    </tr>\n",
       "    <tr>\n",
       "      <th>95</th>\n",
       "      <td>2053630</td>\n",
       "      <td>-7043.713724</td>\n",
       "    </tr>\n",
       "    <tr>\n",
       "      <th>96</th>\n",
       "      <td>2053840</td>\n",
       "      <td>-1308.350247</td>\n",
       "    </tr>\n",
       "    <tr>\n",
       "      <th>97</th>\n",
       "      <td>2053842</td>\n",
       "      <td>-1311.753742</td>\n",
       "    </tr>\n",
       "    <tr>\n",
       "      <th>98</th>\n",
       "      <td>2053925</td>\n",
       "      <td>1372.822866</td>\n",
       "    </tr>\n",
       "    <tr>\n",
       "      <th>99</th>\n",
       "      <td>2054208</td>\n",
       "      <td>5091.402551</td>\n",
       "    </tr>\n",
       "    <tr>\n",
       "      <th>100</th>\n",
       "      <td>2054296</td>\n",
       "      <td>2971.730788</td>\n",
       "    </tr>\n",
       "    <tr>\n",
       "      <th>101</th>\n",
       "      <td>2055019</td>\n",
       "      <td>-285.591196</td>\n",
       "    </tr>\n",
       "    <tr>\n",
       "      <th>102</th>\n",
       "      <td>2055105</td>\n",
       "      <td>-1311.753742</td>\n",
       "    </tr>\n",
       "    <tr>\n",
       "      <th>103</th>\n",
       "      <td>2055220</td>\n",
       "      <td>5217.511815</td>\n",
       "    </tr>\n",
       "    <tr>\n",
       "      <th>104</th>\n",
       "      <td>2055297</td>\n",
       "      <td>-284.740322</td>\n",
       "    </tr>\n",
       "    <tr>\n",
       "      <th>105</th>\n",
       "      <td>2055728</td>\n",
       "      <td>-2228.275299</td>\n",
       "    </tr>\n",
       "    <tr>\n",
       "      <th>106</th>\n",
       "      <td>2055797</td>\n",
       "      <td>856.893329</td>\n",
       "    </tr>\n",
       "    <tr>\n",
       "      <th>107</th>\n",
       "      <td>2055825</td>\n",
       "      <td>-531.944726</td>\n",
       "    </tr>\n",
       "    <tr>\n",
       "      <th>108</th>\n",
       "      <td>2055838</td>\n",
       "      <td>5427.402086</td>\n",
       "    </tr>\n",
       "    <tr>\n",
       "      <th>109</th>\n",
       "      <td>2055885</td>\n",
       "      <td>-114.742049</td>\n",
       "    </tr>\n",
       "    <tr>\n",
       "      <th>110</th>\n",
       "      <td>2055927</td>\n",
       "      <td>8563.205828</td>\n",
       "    </tr>\n",
       "    <tr>\n",
       "      <th>111</th>\n",
       "      <td>2056074</td>\n",
       "      <td>13813.876809</td>\n",
       "    </tr>\n",
       "    <tr>\n",
       "      <th>112</th>\n",
       "      <td>2056186</td>\n",
       "      <td>16085.049180</td>\n",
       "    </tr>\n",
       "    <tr>\n",
       "      <th>113</th>\n",
       "      <td>2055407</td>\n",
       "      <td>11781.922217</td>\n",
       "    </tr>\n",
       "    <tr>\n",
       "      <th>114</th>\n",
       "      <td>2055738</td>\n",
       "      <td>4093.865595</td>\n",
       "    </tr>\n",
       "    <tr>\n",
       "      <th>115</th>\n",
       "      <td>2055754</td>\n",
       "      <td>6975.607397</td>\n",
       "    </tr>\n",
       "    <tr>\n",
       "      <th>116</th>\n",
       "      <td>2055899</td>\n",
       "      <td>790.895736</td>\n",
       "    </tr>\n",
       "    <tr>\n",
       "      <th>117</th>\n",
       "      <td>2056049</td>\n",
       "      <td>792.597483</td>\n",
       "    </tr>\n",
       "  </tbody>\n",
       "</table>\n",
       "<p>118 rows × 2 columns</p>\n",
       "</div>"
      ],
      "text/plain": [
       "          id             0\n",
       "0    2054531   -274.529838\n",
       "1    2054593    792.597483\n",
       "2    2054646   8289.133001\n",
       "3    2051444    270.875790\n",
       "4    2051474   9206.714779\n",
       "5    2054690   1369.454154\n",
       "6    2051536   2518.911085\n",
       "7    2051545   -191.320683\n",
       "8    2051550  17511.690869\n",
       "9    2054836   2614.098484\n",
       "10   2054876    801.106220\n",
       "11   2054915   4929.975990\n",
       "12   2051590   -191.320683\n",
       "13   2051885  -1298.139763\n",
       "14   2056300  11785.325712\n",
       "15   2056702  -1308.350247\n",
       "16   2056767   8295.527658\n",
       "17   2056783  -4494.386890\n",
       "18   2056820  -1310.902868\n",
       "19   2056903  -1435.524097\n",
       "20   2056945   2609.844116\n",
       "21   2049920  -9330.485753\n",
       "22   2049921   4162.110215\n",
       "23   2049983   1956.301933\n",
       "24   2050058  11891.684926\n",
       "25   2050126  -7034.354113\n",
       "26   2050129   1360.094543\n",
       "27   2052863  -8123.304845\n",
       "28   2050136   2897.251440\n",
       "29   2052883  12417.753254\n",
       "..       ...           ...\n",
       "88   2052486   2892.146197\n",
       "89   2052504  -4490.132522\n",
       "90   2052519   6280.731671\n",
       "91   2052540  17993.585880\n",
       "92   2052606  -8124.155719\n",
       "93   2052706  -1310.902868\n",
       "94   2052727  -2323.396685\n",
       "95   2053630  -7043.713724\n",
       "96   2053840  -1308.350247\n",
       "97   2053842  -1311.753742\n",
       "98   2053925   1372.822866\n",
       "99   2054208   5091.402551\n",
       "100  2054296   2971.730788\n",
       "101  2055019   -285.591196\n",
       "102  2055105  -1311.753742\n",
       "103  2055220   5217.511815\n",
       "104  2055297   -284.740322\n",
       "105  2055728  -2228.275299\n",
       "106  2055797    856.893329\n",
       "107  2055825   -531.944726\n",
       "108  2055838   5427.402086\n",
       "109  2055885   -114.742049\n",
       "110  2055927   8563.205828\n",
       "111  2056074  13813.876809\n",
       "112  2056186  16085.049180\n",
       "113  2055407  11781.922217\n",
       "114  2055738   4093.865595\n",
       "115  2055754   6975.607397\n",
       "116  2055899    790.895736\n",
       "117  2056049    792.597483\n",
       "\n",
       "[118 rows x 2 columns]"
      ]
     },
     "execution_count": 641,
     "metadata": {},
     "output_type": "execute_result"
    }
   ],
   "source": [
    "result"
   ]
  },
  {
   "cell_type": "code",
   "execution_count": 643,
   "metadata": {},
   "outputs": [
    {
     "name": "stderr",
     "output_type": "stream",
     "text": [
      "c:\\python27\\lib\\site-packages\\ipykernel_launcher.py:1: FutureWarning: sort(columns=....) is deprecated, use sort_values(by=.....)\n",
      "  \"\"\"Entry point for launching an IPython kernel.\n"
     ]
    }
   ],
   "source": [
    "result2 = result.sort(0 , ascending=False)"
   ]
  },
  {
   "cell_type": "code",
   "execution_count": 645,
   "metadata": {},
   "outputs": [
    {
     "data": {
      "text/html": [
       "<div>\n",
       "<table border=\"1\" class=\"dataframe\">\n",
       "  <thead>\n",
       "    <tr style=\"text-align: right;\">\n",
       "      <th></th>\n",
       "      <th>id</th>\n",
       "      <th>0</th>\n",
       "    </tr>\n",
       "  </thead>\n",
       "  <tbody>\n",
       "    <tr>\n",
       "      <th>43</th>\n",
       "      <td>2051029</td>\n",
       "      <td>19031.623767</td>\n",
       "    </tr>\n",
       "    <tr>\n",
       "      <th>91</th>\n",
       "      <td>2052540</td>\n",
       "      <td>17993.585880</td>\n",
       "    </tr>\n",
       "    <tr>\n",
       "      <th>8</th>\n",
       "      <td>2051550</td>\n",
       "      <td>17511.690869</td>\n",
       "    </tr>\n",
       "    <tr>\n",
       "      <th>112</th>\n",
       "      <td>2056186</td>\n",
       "      <td>16085.049180</td>\n",
       "    </tr>\n",
       "    <tr>\n",
       "      <th>77</th>\n",
       "      <td>2051968</td>\n",
       "      <td>14077.229441</td>\n",
       "    </tr>\n",
       "  </tbody>\n",
       "</table>\n",
       "</div>"
      ],
      "text/plain": [
       "          id             0\n",
       "43   2051029  19031.623767\n",
       "91   2052540  17993.585880\n",
       "8    2051550  17511.690869\n",
       "112  2056186  16085.049180\n",
       "77   2051968  14077.229441"
      ]
     },
     "execution_count": 645,
     "metadata": {},
     "output_type": "execute_result"
    }
   ],
   "source": [
    "result2.head()"
   ]
  },
  {
   "cell_type": "code",
   "execution_count": 646,
   "metadata": {},
   "outputs": [
    {
     "data": {
      "text/html": [
       "<div>\n",
       "<table border=\"1\" class=\"dataframe\">\n",
       "  <thead>\n",
       "    <tr style=\"text-align: right;\">\n",
       "      <th></th>\n",
       "      <th>id</th>\n",
       "      <th>0</th>\n",
       "    </tr>\n",
       "  </thead>\n",
       "  <tbody>\n",
       "    <tr>\n",
       "      <th>95</th>\n",
       "      <td>2053630</td>\n",
       "      <td>-7043.713724</td>\n",
       "    </tr>\n",
       "    <tr>\n",
       "      <th>79</th>\n",
       "      <td>2056937</td>\n",
       "      <td>-7095.440551</td>\n",
       "    </tr>\n",
       "    <tr>\n",
       "      <th>27</th>\n",
       "      <td>2052863</td>\n",
       "      <td>-8123.304845</td>\n",
       "    </tr>\n",
       "    <tr>\n",
       "      <th>92</th>\n",
       "      <td>2052606</td>\n",
       "      <td>-8124.155719</td>\n",
       "    </tr>\n",
       "    <tr>\n",
       "      <th>21</th>\n",
       "      <td>2049920</td>\n",
       "      <td>-9330.485753</td>\n",
       "    </tr>\n",
       "  </tbody>\n",
       "</table>\n",
       "</div>"
      ],
      "text/plain": [
       "         id            0\n",
       "95  2053630 -7043.713724\n",
       "79  2056937 -7095.440551\n",
       "27  2052863 -8123.304845\n",
       "92  2052606 -8124.155719\n",
       "21  2049920 -9330.485753"
      ]
     },
     "execution_count": 646,
     "metadata": {},
     "output_type": "execute_result"
    }
   ],
   "source": [
    "result2.tail()"
   ]
  },
  {
   "cell_type": "code",
   "execution_count": null,
   "metadata": {
    "collapsed": true
   },
   "outputs": [],
   "source": []
  }
 ],
 "metadata": {
  "kernelspec": {
   "display_name": "Python 2",
   "language": "python",
   "name": "python2"
  },
  "language_info": {
   "codemirror_mode": {
    "name": "ipython",
    "version": 2
   },
   "file_extension": ".py",
   "mimetype": "text/x-python",
   "name": "python",
   "nbconvert_exporter": "python",
   "pygments_lexer": "ipython2",
   "version": "2.7.13"
  }
 },
 "nbformat": 4,
 "nbformat_minor": 2
}
