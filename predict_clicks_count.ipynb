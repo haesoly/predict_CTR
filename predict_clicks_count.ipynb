{
 "cells": [
  {
   "cell_type": "code",
   "execution_count": 417,
   "metadata": {
    "collapsed": true
   },
   "outputs": [],
   "source": [
    "import pandas as pd\n",
    "import numpy as np\n",
    "import seaborn as sns\n",
    "import statsmodels.api as sm\n",
    "import matplotlib.pylab as plt\n",
    "import re\n",
    "import scipy as sp\n",
    "from sklearn.preprocessing import StandardScaler"
   ]
  },
  {
   "cell_type": "markdown",
   "metadata": {},
   "source": [
    "# 1. clicks 모델링 with training_set"
   ]
  },
  {
   "cell_type": "code",
   "execution_count": 418,
   "metadata": {
    "collapsed": true
   },
   "outputs": [],
   "source": [
    "train = pd.read_csv('training_set.csv', encoding='CP949')\n",
    "test = pd.read_csv('test_set.csv', encoding='CP949')"
   ]
  },
  {
   "cell_type": "markdown",
   "metadata": {},
   "source": [
    "# 전처리"
   ]
  },
  {
   "cell_type": "code",
   "execution_count": 419,
   "metadata": {},
   "outputs": [
    {
     "name": "stdout",
     "output_type": "stream",
     "text": [
      "7783\n",
      "1753\n"
     ]
    }
   ],
   "source": [
    "print len(train[train['language_code'] == 'ko'])\n",
    "print len(train[train['language_code'] == 'en'])"
   ]
  },
  {
   "cell_type": "code",
   "execution_count": 420,
   "metadata": {
    "collapsed": true
   },
   "outputs": [],
   "source": [
    "ko_X1 = pd.DataFrame(train[train['language_code'] == 'ko'],columns = ['id','comments_count','likes_count','clippings_count','via','category','communities'])\n",
    "en_X1 = pd.DataFrame(train[train['language_code'] == 'en'],columns = ['id','comments_count','likes_count','clippings_count','via','category','communities'])"
   ]
  },
  {
   "cell_type": "code",
   "execution_count": 421,
   "metadata": {
    "collapsed": true
   },
   "outputs": [],
   "source": [
    "y1 = pd.DataFrame(train[train['language_code'] == 'ko'], columns = ['clicks_count'])"
   ]
  },
  {
   "cell_type": "code",
   "execution_count": 422,
   "metadata": {
    "collapsed": true
   },
   "outputs": [],
   "source": [
    "ko_X1 = ko_X1.drop(ko_X1.index[[755,1149,2237,5310,6579,7728]]).reset_index(drop=1)\n",
    "y1 = y1.drop(y1.index[[755,1149,2237,5310,6579,7728]]).reset_index(drop=1)"
   ]
  },
  {
   "cell_type": "code",
   "execution_count": 423,
   "metadata": {
    "collapsed": true
   },
   "outputs": [],
   "source": [
    "via_dum = pd.DataFrame(np.zeros((len(ko_X1),3)),columns = ['android','ios','web'])\n",
    "for i, via in enumerate(ko_X1.via):\n",
    "    if via == 'android':\n",
    "        via_dum.ix[i, 0] = 1\n",
    "    elif via == 'ios':\n",
    "        via_dum.ix[i,1] = 1\n",
    "    elif via == 'web':\n",
    "        via_dum.ix[i,2] = 1\n",
    "ko_X1 = ko_X1.join(via_dum)"
   ]
  },
  {
   "cell_type": "code",
   "execution_count": 424,
   "metadata": {
    "collapsed": true
   },
   "outputs": [],
   "source": [
    "category_dum = pd.DataFrame(np.zeros((len(ko_X1),2)),columns = ['ImagePost','TextPost'])\n",
    "for i, category in enumerate(ko_X1.category):\n",
    "    if category == 'ImagePost':\n",
    "        category_dum.ix[i,0] = 1\n",
    "    elif category == 'TextPost':\n",
    "        category_dum.ix[i,1] = 1\n",
    "ko_X1 = ko_X1.join(category_dum)"
   ]
  },
  {
   "cell_type": "code",
   "execution_count": 425,
   "metadata": {
    "collapsed": true
   },
   "outputs": [],
   "source": [
    "community = ['그래픽 디자인','자전거','한국 TV쇼','뉴스와 이슈','야구','한국 드라마','남성 패션','맛집 탐방','부모','축구','유머','모바일 게임','홈 인테리어 & 데코','요리','자동차','캠핑','웹툰','일본 애니메이션','동물','피트니스','다이어트','금융','사진 예술','일러스트레이션','책','한국 여행','남성 데일리룩','디아이와이','영감을 주는 이야기','국내 연예','음식','빙글러','Did You Know?','아시아의 미녀스타','어록','남성 스트리트 패션','고양이','한국 가요','결혼 생활','한국 음식','공포 미스테리','헤어스타일','모델', '기업가정신','남성 신발','술','마케팅','스킨케어','한국 영화','엽기','창작문예','디저트','인터넷 스타','강연','스포츠','요가','코리안 뷰티','게임','네일','맥주','카페','필라테스','대학 생활','영아(2세미만 부모)','역사','패션 디자인','유럽 여행','유아(2~4세 부모)','인테리어 디자인','축제','무한 도전','웨딩&허니문','시','헐리우드 영화','향수','가구','임신과 출산','별자리 운세','일본 만화','커피','재테크','크로스핏','꽃','맨즈 그루밍','호텔&숙소','퓨전 요리','베이킹','카메라','이벤트/세일 정보','미국 여행','일본 여행','남성 액세서리','애플','모바일 앱','수공예','댄스','자연 ','PC 게임','원피스(만화)','음악 페스티벌','부산 여행','순수 예술','무술','여성 액세서리','프리미어리그','남성 시계','익스트림 스포츠','스파&마사지','비디오 게임','천문학','음료','자동차 튜닝','현대 미술','인디음악','채식요리','팬 아트 (Fan Art)','헐리우드 스타','여성 슈즈','키덜트 제품','과학','일본어 공부','어쿠스틱','아동 패션','건축','의료','인형','산업 디자인','일렉트로닉 뮤직','남성 스포츠웨어','남성 가방','오피스 인테리어','아시아 남자 스타','뮤지컬','일기','미니어처','토이','악기','Social Media','홍콩 여행','호주 여행','뜨개질','흑백사진','와인','연극','일본 영화','전시회','스킨 스쿠버 다이빙','목공예','중국 여행','중국어 공부','수상 스포츠','차','태국 여행','레고','푸드 스타일링','메이저리그','원예','농구','하이킹&트레킹','픽시','성형수술','공유경제','여성 가방','일본 스타','컴퓨터','일본 음식','여성 스포츠웨어','힙합','빅토리아시크릿 모델','빅토리아 시크릿','그릇 및 조리도구','액션 영화','팝 뮤직','파리 여행','한국 만화','액션 게임','클럽음악','시뮬레이션 게임','중국 음식','사회적 기업','복싱','오토바이','캐나다 여행','가젯','도쿄 여행','인포그래픽','드레스','이탈리아 여행','방콕 여행','미국 드라마','에이오에이','케이크','이탈리아 음식','중국 스타','에이핑크','유럽 건축','야생동물','브라운 아이드 걸스','UEFA 챔피언스 리그','한지민','나이키','런던 여행','브레인 티저','맨체스터 유나이티드','월페이퍼','아디다스','여성 시계','안경류','웹&모바일 디자인','프랑스 여행','영국 여행','교토 여행','홈엔터테인먼트','디제이','영국 여행','아이유','바르셀로나 여행','라리가','현아(포미닛)','코스프레','FPS 게임','발라드','아이폰 앱','안드로이드 앱','어드벤쳐 게임','손예진','로마 여행','일본 드라마','주스&스무디','스트리트 아트','걸스데이','피렌체 여행','필리핀 여행','롤플레잉 게임','도시락','현대 자동차','UEFA 유로파 리그','미국 애니메이션','모던 패밀리(미국 드라마)','프렌즈 (미국 시트콤)','골프','해산물','분데스리가','스포츠 게임','설리(f(x))','NCIS(미국 드라마)','로스트(미국 드라마)','미국 정치','박보영','K리그 클래식','몰디브 여행','칵테일','엔비에이','신민아','꽃보다 남자','밀리터리 매니아','기아 자동차','김건모','대만스타','액션 피규어','대구 FC','한국 건축','씨스타','독일 여행','한옥','스페인 여행','패키지 디자인','물고기(애완동물)','e스포츠','싸이']"
   ]
  },
  {
   "cell_type": "code",
   "execution_count": 426,
   "metadata": {
    "collapsed": true
   },
   "outputs": [],
   "source": [
    "community_dum = pd.DataFrame(np.zeros((len(ko_X1),len(community))),columns = community)\n",
    "for i, communities in enumerate(ko_X1.communities):\n",
    "    try:\n",
    "        l = re.sub(r'[{}]','',communities)\n",
    "        l = re.split(',',l)\n",
    "        for c in l:\n",
    "            c = c.encode('utf-8')\n",
    "            if c in community:\n",
    "                community_dum.ix[i,c] = 1\n",
    "    except:\n",
    "        pass"
   ]
  },
  {
   "cell_type": "code",
   "execution_count": 427,
   "metadata": {
    "collapsed": true
   },
   "outputs": [],
   "source": [
    "co = np.arange(len(community))\n",
    "community_dum.columns = co\n",
    "ko_X1 = ko_X1.join(community_dum.add_prefix('Community_'))"
   ]
  },
  {
   "cell_type": "code",
   "execution_count": null,
   "metadata": {
    "collapsed": true
   },
   "outputs": [],
   "source": []
  },
  {
   "cell_type": "markdown",
   "metadata": {},
   "source": [
    "# OLS 모델링"
   ]
  },
  {
   "cell_type": "code",
   "execution_count": 428,
   "metadata": {
    "scrolled": false
   },
   "outputs": [
    {
     "data": {
      "text/plain": [
       "Index([u'id', u'comments_count', u'likes_count', u'clippings_count', u'via',\n",
       "       u'category', u'communities', u'android', u'ios', u'web',\n",
       "       ...\n",
       "       u'Community_260', u'Community_261', u'Community_262', u'Community_263',\n",
       "       u'Community_264', u'Community_265', u'Community_266', u'Community_267',\n",
       "       u'Community_268', u'Community_269'],\n",
       "      dtype='object', length=282)"
      ]
     },
     "execution_count": 428,
     "metadata": {},
     "output_type": "execute_result"
    }
   ],
   "source": [
    "ko_X1.columns"
   ]
  },
  {
   "cell_type": "code",
   "execution_count": 429,
   "metadata": {},
   "outputs": [],
   "source": [
    "ko_X2 = pd.DataFrame(ko_X1, columns = ['comments_count','likes_count','android','ImagePost','TextPost','Community_2','Community_3','Community_9','Community_10','Community_16','Community_18','Community_28','Community_29','Community_31','Community_32','Community_33','Community_36','Community_40','Community_49','Community_50','Community_52','Community_53','Community_54','Community_59','Community_101','Community_138','Community_141','Community_152','Community_167','Community_190','Community_204','Community_221'])\n",
    "ko_X2 = sm.add_constant(ko_X2)"
   ]
  },
  {
   "cell_type": "code",
   "execution_count": 430,
   "metadata": {},
   "outputs": [
    {
     "name": "stdout",
     "output_type": "stream",
     "text": [
      "                            OLS Regression Results                            \n",
      "==============================================================================\n",
      "Dep. Variable:           clicks_count   R-squared:                       0.689\n",
      "Model:                            OLS   Adj. R-squared:                  0.688\n",
      "Method:                 Least Squares   F-statistic:                     554.3\n",
      "Date:                Sun, 14 May 2017   Prob (F-statistic):               0.00\n",
      "Time:                        09:10:36   Log-Likelihood:                -72454.\n",
      "No. Observations:                7777   AIC:                         1.450e+05\n",
      "Df Residuals:                    7745   BIC:                         1.452e+05\n",
      "Df Model:                          31                                         \n",
      "Covariance Type:            nonrobust                                         \n",
      "==================================================================================\n",
      "                     coef    std err          t      P>|t|      [0.025      0.975]\n",
      "----------------------------------------------------------------------------------\n",
      "const            -24.0422     55.692     -0.432      0.666    -133.213      85.128\n",
      "comments_count    28.9232      2.313     12.504      0.000      24.389      33.457\n",
      "likes_count       59.2861      0.653     90.840      0.000      58.007      60.565\n",
      "android          211.2960     69.453      3.042      0.002      75.148     347.444\n",
      "ImagePost        127.3583     52.280      2.436      0.015      24.876     229.840\n",
      "TextPost        -151.4005     95.695     -1.582      0.114    -338.989      36.188\n",
      "Community_2     1072.9499    200.148      5.361      0.000     680.606    1465.294\n",
      "Community_3     -151.6074     88.918     -1.705      0.088    -325.910      22.695\n",
      "Community_9     1197.7223    467.799      2.560      0.010     280.710    2114.735\n",
      "Community_10    3327.0092    113.838     29.226      0.000    3103.855    3550.163\n",
      "Community_16   -1665.3371    299.389     -5.562      0.000   -2252.220   -1078.454\n",
      "Community_18   -1287.5329    187.035     -6.884      0.000   -1654.173    -920.893\n",
      "Community_28    -455.6864     89.123     -5.113      0.000    -630.392    -280.981\n",
      "Community_29    1542.8726    157.044      9.824      0.000    1235.024    1850.721\n",
      "Community_31     343.1760    106.484      3.223      0.001     134.439     551.913\n",
      "Community_32    -394.4707    113.804     -3.466      0.001    -617.557    -171.384\n",
      "Community_33     788.1125    228.595      3.448      0.001     340.004    1236.221\n",
      "Community_36   -1700.5064    185.016     -9.191      0.000   -2063.188   -1337.825\n",
      "Community_40   -2858.4258    462.940     -6.175      0.000   -3765.913   -1950.938\n",
      "Community_49    2663.5799    207.767     12.820      0.000    2256.300    3070.860\n",
      "Community_50    -545.0335    162.026     -3.364      0.001    -862.648    -227.418\n",
      "Community_52    -598.9679    237.154     -2.526      0.012   -1063.854    -134.082\n",
      "Community_53    -358.2227    200.928     -1.783      0.075    -752.095      35.650\n",
      "Community_54    1190.6631    284.883      4.179      0.000     632.215    1749.111\n",
      "Community_59    -992.9762    494.855     -2.007      0.045   -1963.026     -22.926\n",
      "Community_101   -311.4778    210.262     -1.481      0.139    -723.648     100.692\n",
      "Community_138  -3180.2294   1022.619     -3.110      0.002   -5184.838   -1175.620\n",
      "Community_141  -1984.1425    750.187     -2.645      0.008   -3454.711    -513.574\n",
      "Community_152  -1851.6948    676.102     -2.739      0.006   -3177.037    -526.352\n",
      "Community_167  -1124.2363    423.215     -2.656      0.008   -1953.852    -294.621\n",
      "Community_190   3370.2867    965.230      3.492      0.000    1478.175    5262.398\n",
      "Community_204  -1414.1093    491.070     -2.880      0.004   -2376.739    -451.480\n",
      "Community_221   -776.2648    445.244     -1.743      0.081   -1649.064      96.534\n",
      "==============================================================================\n",
      "Omnibus:                     7134.617   Durbin-Watson:                   2.021\n",
      "Prob(Omnibus):                  0.000   Jarque-Bera (JB):           803231.499\n",
      "Skew:                           3.995   Prob(JB):                         0.00\n",
      "Kurtosis:                      52.142   Cond. No.                     6.94e+17\n",
      "==============================================================================\n",
      "\n",
      "Warnings:\n",
      "[1] Standard Errors assume that the covariance matrix of the errors is correctly specified.\n",
      "[2] The smallest eigenvalue is 5.6e-29. This might indicate that there are\n",
      "strong multicollinearity problems or that the design matrix is singular.\n"
     ]
    }
   ],
   "source": [
    "model = sm.OLS(y1, ko_X2)\n",
    "result = model.fit()\n",
    "print(result.summary())"
   ]
  },
  {
   "cell_type": "code",
   "execution_count": null,
   "metadata": {
    "collapsed": true
   },
   "outputs": [],
   "source": []
  },
  {
   "cell_type": "markdown",
   "metadata": {},
   "source": [
    "# 아웃라이어 제거"
   ]
  },
  {
   "cell_type": "code",
   "execution_count": 431,
   "metadata": {},
   "outputs": [
    {
     "data": {
      "image/png": "[encoded data removed]",
      "text/plain": [
       "<matplotlib.figure.Figure at 0x1de66eb8>"
      ]
     },
     "metadata": {},
     "output_type": "display_data"
    }
   ],
   "source": [
    "sp.stats.probplot(result.resid, plot = plt)\n",
    "plt.show()"
   ]
  },
  {
   "cell_type": "code",
   "execution_count": 432,
   "metadata": {
    "collapsed": true
   },
   "outputs": [],
   "source": [
    "influence = result.get_influence()\n",
    "cooks_d2, pvals = influence.cooks_distance\n",
    "fox_cr = 4 /float(len(ko_X2)-2)\n",
    "idx = np.where(cooks_d2 < fox_cr)[0]\n",
    "ko_X3 = ko_X2.ix[idx,:].reset_index(drop = 1)\n",
    "y3 = y1.ix[idx,:].reset_index(drop = 1)"
   ]
  },
  {
   "cell_type": "code",
   "execution_count": 433,
   "metadata": {},
   "outputs": [
    {
     "name": "stdout",
     "output_type": "stream",
     "text": [
      "                            OLS Regression Results                            \n",
      "==============================================================================\n",
      "Dep. Variable:           clicks_count   R-squared:                       0.829\n",
      "Model:                            OLS   Adj. R-squared:                  0.828\n",
      "Method:                 Least Squares   F-statistic:                     1216.\n",
      "Date:                Sun, 14 May 2017   Prob (F-statistic):               0.00\n",
      "Time:                        09:10:37   Log-Likelihood:                -61686.\n",
      "No. Observations:                7320   AIC:                         1.234e+05\n",
      "Df Residuals:                    7290   BIC:                         1.236e+05\n",
      "Df Model:                          29                                         \n",
      "Covariance Type:            nonrobust                                         \n",
      "==================================================================================\n",
      "                     coef    std err          t      P>|t|      [0.025      0.975]\n",
      "----------------------------------------------------------------------------------\n",
      "const            -23.3309     23.255     -1.003      0.316     -68.917      22.256\n",
      "comments_count    28.1411      1.767     15.924      0.000      24.677      31.605\n",
      "likes_count       59.3448      0.452    131.372      0.000      58.459      60.230\n",
      "android          132.4154     29.396      4.504      0.000      74.790     190.041\n",
      "ImagePost         48.9378     21.793      2.246      0.025       6.216      91.659\n",
      "TextPost         -72.2687     39.743     -1.818      0.069    -150.177       5.640\n",
      "Community_2      870.8653     98.233      8.865      0.000     678.301    1063.430\n",
      "Community_3       52.8096     37.809      1.397      0.163     -21.308     126.927\n",
      "Community_9      616.6541    253.086      2.437      0.015     120.533    1112.775\n",
      "Community_10    2025.0004     52.479     38.587      0.000    1922.126    2127.875\n",
      "Community_16   -1209.9796    137.771     -8.783      0.000   -1480.051    -939.908\n",
      "Community_18    -609.9621     81.729     -7.463      0.000    -770.174    -449.750\n",
      "Community_28    -324.3394     37.648     -8.615      0.000    -398.140    -250.539\n",
      "Community_29     822.1998     71.929     11.431      0.000     681.199     963.201\n",
      "Community_31     176.2104     46.231      3.811      0.000      85.584     266.837\n",
      "Community_32    -206.5632     48.579     -4.252      0.000    -301.792    -111.335\n",
      "Community_33     441.1119    104.827      4.208      0.000     235.620     646.603\n",
      "Community_36   -1570.4250     78.204    -20.081      0.000   -1723.727   -1417.123\n",
      "Community_40   -3600.4700    395.979     -9.093      0.000   -4376.704   -2824.236\n",
      "Community_49    2497.8519    110.033     22.701      0.000    2282.155    2713.548\n",
      "Community_50    -119.6149     68.623     -1.743      0.081    -254.137      14.907\n",
      "Community_52     331.1021    110.874      2.986      0.003     113.756     548.448\n",
      "Community_53    -113.2277     84.517     -1.340      0.180    -278.905      52.450\n",
      "Community_54     223.3041    125.831      1.775      0.076     -23.361     469.970\n",
      "Community_59    -157.4606    217.970     -0.722      0.470    -584.744     269.823\n",
      "Community_101   -158.4626     88.388     -1.793      0.073    -331.729      14.803\n",
      "Community_138  -5.842e-13    1.3e-12     -0.451      0.652   -3.12e-12    1.95e-12\n",
      "Community_141  -1048.8560   1108.411     -0.946      0.344   -3221.662    1123.950\n",
      "Community_152  -1801.1281    297.554     -6.053      0.000   -2384.420   -1217.836\n",
      "Community_167   -229.5654    190.812     -1.203      0.229    -603.612     144.481\n",
      "Community_190           0          0        nan        nan           0           0\n",
      "Community_204    -64.1541    320.475     -0.200      0.841    -692.378     564.070\n",
      "Community_221   -320.9195    185.802     -1.727      0.084    -685.146      43.307\n",
      "==============================================================================\n",
      "Omnibus:                     3662.425   Durbin-Watson:                   2.003\n",
      "Prob(Omnibus):                  0.000   Jarque-Bera (JB):            71849.163\n",
      "Skew:                           1.940   Prob(JB):                         0.00\n",
      "Kurtosis:                      17.850   Cond. No.                     3.71e+17\n",
      "==============================================================================\n",
      "\n",
      "Warnings:\n",
      "[1] Standard Errors assume that the covariance matrix of the errors is correctly specified.\n",
      "[2] The smallest eigenvalue is 7.62e-29. This might indicate that there are\n",
      "strong multicollinearity problems or that the design matrix is singular.\n"
     ]
    }
   ],
   "source": [
    "model2 = sm.OLS(y3, ko_X3)\n",
    "result2 = model2.fit()\n",
    "print(result2.summary())"
   ]
  },
  {
   "cell_type": "code",
   "execution_count": 434,
   "metadata": {},
   "outputs": [
    {
     "data": {
      "image/png": "[encoded data removed]",
      "text/plain": [
       "<matplotlib.figure.Figure at 0x24e1eac8>"
      ]
     },
     "metadata": {},
     "output_type": "display_data"
    }
   ],
   "source": [
    "plt.figure()\n",
    "sp.stats.probplot(result2.resid, plot = plt)\n",
    "plt.show()"
   ]
  },
  {
   "cell_type": "code",
   "execution_count": 435,
   "metadata": {},
   "outputs": [
    {
     "name": "stdout",
     "output_type": "stream",
     "text": [
      "457\n"
     ]
    }
   ],
   "source": [
    "print len(ko_X2)-len(ko_X3)"
   ]
  },
  {
   "cell_type": "code",
   "execution_count": null,
   "metadata": {
    "collapsed": true
   },
   "outputs": [],
   "source": []
  },
  {
   "cell_type": "markdown",
   "metadata": {},
   "source": [
    "# 변수 선택"
   ]
  },
  {
   "cell_type": "code",
   "execution_count": 436,
   "metadata": {
    "collapsed": true
   },
   "outputs": [],
   "source": [
    "ko_X4= ko_X3.copy()\n",
    "y4 = y3.copy()"
   ]
  },
  {
   "cell_type": "code",
   "execution_count": 437,
   "metadata": {},
   "outputs": [],
   "source": [
    "del ko_X4['Community_53']\n",
    "del ko_X4['Community_59']\n",
    "del ko_X4['Community_138']\n",
    "del ko_X4['Community_141']\n",
    "del ko_X4['Community_167']\n",
    "del ko_X4['Community_190']\n",
    "del ko_X4['Community_204']\n",
    "del ko_X4['TextPost']"
   ]
  },
  {
   "cell_type": "code",
   "execution_count": 438,
   "metadata": {},
   "outputs": [
    {
     "name": "stdout",
     "output_type": "stream",
     "text": [
      "                            OLS Regression Results                            \n",
      "==============================================================================\n",
      "Dep. Variable:           clicks_count   R-squared:                       0.829\n",
      "Model:                            OLS   Adj. R-squared:                  0.828\n",
      "Method:                 Least Squares   F-statistic:                     1469.\n",
      "Date:                Sun, 14 May 2017   Prob (F-statistic):               0.00\n",
      "Time:                        09:10:37   Log-Likelihood:                -61688.\n",
      "No. Observations:                7320   AIC:                         1.234e+05\n",
      "Df Residuals:                    7295   BIC:                         1.236e+05\n",
      "Df Model:                          24                                         \n",
      "Covariance Type:            nonrobust                                         \n",
      "==================================================================================\n",
      "                     coef    std err          t      P>|t|      [0.025      0.975]\n",
      "----------------------------------------------------------------------------------\n",
      "const            -96.0394     61.355     -1.565      0.118    -216.312      24.233\n",
      "comments_count    28.1998      1.767     15.960      0.000      24.736      31.663\n",
      "likes_count       59.3416      0.452    131.407      0.000      58.456      60.227\n",
      "android          132.9895     29.385      4.526      0.000      75.387     190.592\n",
      "ImagePost        118.3135     59.715      1.981      0.048       1.255     235.372\n",
      "Community_2      871.6644     98.195      8.877      0.000     679.173    1064.156\n",
      "Community_3       48.1705     37.557      1.283      0.200     -25.451     121.792\n",
      "Community_9      620.1729    253.043      2.451      0.014     124.135    1116.211\n",
      "Community_10    2026.3333     52.460     38.626      0.000    1923.496    2129.170\n",
      "Community_16   -1211.4376    137.747     -8.795      0.000   -1481.461    -941.414\n",
      "Community_18    -608.8508     81.716     -7.451      0.000    -769.038    -448.664\n",
      "Community_28    -336.2858     36.312     -9.261      0.000    -407.468    -265.104\n",
      "Community_29     824.1866     71.911     11.461      0.000     683.220     965.153\n",
      "Community_31     177.8200     46.215      3.848      0.000      87.225     268.415\n",
      "Community_32    -207.1804     48.551     -4.267      0.000    -302.354    -112.007\n",
      "Community_33     443.0948    104.800      4.228      0.000     237.657     648.533\n",
      "Community_36   -1569.4980     78.195    -20.072      0.000   -1722.783   -1416.213\n",
      "Community_40   -3592.5480    395.932     -9.074      0.000   -4368.689   -2816.407\n",
      "Community_49    2499.2281    110.025     22.715      0.000    2283.546    2714.910\n",
      "Community_50    -115.1201     68.571     -1.679      0.093    -249.538      19.298\n",
      "Community_52     328.0188    110.817      2.960      0.003     110.785     545.253\n",
      "Community_54     224.4983    125.719      1.786      0.074     -21.947     470.943\n",
      "Community_101   -154.2056     88.360     -1.745      0.081    -327.416      19.005\n",
      "Community_152  -1794.8032    297.530     -6.032      0.000   -2378.048   -1211.559\n",
      "Community_221   -318.7232    185.792     -1.715      0.086    -682.929      45.482\n",
      "==============================================================================\n",
      "Omnibus:                     3666.417   Durbin-Watson:                   2.001\n",
      "Prob(Omnibus):                  0.000   Jarque-Bera (JB):            71936.914\n",
      "Skew:                           1.943   Prob(JB):                         0.00\n",
      "Kurtosis:                      17.858   Cond. No.                     1.16e+03\n",
      "==============================================================================\n",
      "\n",
      "Warnings:\n",
      "[1] Standard Errors assume that the covariance matrix of the errors is correctly specified.\n",
      "[2] The condition number is large, 1.16e+03. This might indicate that there are\n",
      "strong multicollinearity or other numerical problems.\n"
     ]
    }
   ],
   "source": [
    "model3 = sm.OLS(y4, ko_X4)\n",
    "result3 = model3.fit()\n",
    "print(result3.summary())"
   ]
  },
  {
   "cell_type": "code",
   "execution_count": null,
   "metadata": {
    "collapsed": true
   },
   "outputs": [],
   "source": []
  },
  {
   "cell_type": "markdown",
   "metadata": {},
   "source": [
    "# 스케일링"
   ]
  },
  {
   "cell_type": "code",
   "execution_count": 439,
   "metadata": {
    "collapsed": true
   },
   "outputs": [],
   "source": [
    "ko_X5 = ko_X4.copy()\n",
    "y5 = y4.copy()"
   ]
  },
  {
   "cell_type": "code",
   "execution_count": 440,
   "metadata": {},
   "outputs": [
    {
     "data": {
      "text/plain": [
       "Index([u'const', u'comments_count', u'likes_count', u'android', u'ImagePost',\n",
       "       u'Community_2', u'Community_3', u'Community_9', u'Community_10',\n",
       "       u'Community_16', u'Community_18', u'Community_28', u'Community_29',\n",
       "       u'Community_31', u'Community_32', u'Community_33', u'Community_36',\n",
       "       u'Community_40', u'Community_49', u'Community_50', u'Community_52',\n",
       "       u'Community_54', u'Community_101', u'Community_152', u'Community_221'],\n",
       "      dtype='object')"
      ]
     },
     "execution_count": 440,
     "metadata": {},
     "output_type": "execute_result"
    }
   ],
   "source": [
    "ko_X5.columns"
   ]
  },
  {
   "cell_type": "code",
   "execution_count": 441,
   "metadata": {
    "collapsed": true
   },
   "outputs": [],
   "source": [
    "scaler = StandardScaler()"
   ]
  },
  {
   "cell_type": "code",
   "execution_count": 442,
   "metadata": {
    "collapsed": true
   },
   "outputs": [],
   "source": [
    "ko_X6 = pd.DataFrame(scaler.fit_transform(ko_X5.ix[:, 1:3]), columns=ko_X5.columns[1:3])\n",
    "y6  = pd.DataFrame(scaler.fit_transform(y5), columns= y5.columns)"
   ]
  },
  {
   "cell_type": "code",
   "execution_count": 443,
   "metadata": {
    "collapsed": true
   },
   "outputs": [],
   "source": [
    "ko_X6= ko_X6.join(ko_X5.reset_index(drop=1).ix[:,3:])"
   ]
  },
  {
   "cell_type": "code",
   "execution_count": 444,
   "metadata": {},
   "outputs": [
    {
     "data": {
      "text/plain": [
       "Index([u'const', u'comments_count', u'likes_count', u'android', u'ImagePost',\n",
       "       u'Community_2', u'Community_3', u'Community_9', u'Community_10',\n",
       "       u'Community_16', u'Community_18', u'Community_28', u'Community_29',\n",
       "       u'Community_31', u'Community_32', u'Community_33', u'Community_36',\n",
       "       u'Community_40', u'Community_49', u'Community_50', u'Community_52',\n",
       "       u'Community_54', u'Community_101', u'Community_152', u'Community_221'],\n",
       "      dtype='object')"
      ]
     },
     "execution_count": 444,
     "metadata": {},
     "output_type": "execute_result"
    }
   ],
   "source": [
    "ko_X6 = sm.add_constant(ko_X6, has_constant='add')\n",
    "ko_X6.columns"
   ]
  },
  {
   "cell_type": "code",
   "execution_count": null,
   "metadata": {
    "collapsed": true
   },
   "outputs": [],
   "source": []
  },
  {
   "cell_type": "markdown",
   "metadata": {},
   "source": [
    "# 최종 모형"
   ]
  },
  {
   "cell_type": "code",
   "execution_count": 445,
   "metadata": {},
   "outputs": [
    {
     "name": "stdout",
     "output_type": "stream",
     "text": [
      "                            OLS Regression Results                            \n",
      "==============================================================================\n",
      "Dep. Variable:           clicks_count   R-squared:                       0.829\n",
      "Model:                            OLS   Adj. R-squared:                  0.828\n",
      "Method:                 Least Squares   F-statistic:                     1469.\n",
      "Date:                Sun, 14 May 2017   Prob (F-statistic):               0.00\n",
      "Time:                        09:10:38   Log-Likelihood:                -3932.7\n",
      "No. Observations:                7320   AIC:                             7915.\n",
      "Df Residuals:                    7295   BIC:                             8088.\n",
      "Df Model:                          24                                         \n",
      "Covariance Type:            nonrobust                                         \n",
      "==================================================================================\n",
      "                     coef    std err          t      P>|t|      [0.025      0.975]\n",
      "----------------------------------------------------------------------------------\n",
      "const             -0.1118      0.023     -4.838      0.000      -0.157      -0.066\n",
      "comments_count     0.0847      0.005     15.960      0.000       0.074       0.095\n",
      "likes_count        0.7604      0.006    131.407      0.000       0.749       0.772\n",
      "android            0.0498      0.011      4.526      0.000       0.028       0.071\n",
      "ImagePost          0.0443      0.022      1.981      0.048       0.000       0.088\n",
      "Community_2        0.3264      0.037      8.877      0.000       0.254       0.398\n",
      "Community_3        0.0180      0.014      1.283      0.200      -0.010       0.046\n",
      "Community_9        0.2322      0.095      2.451      0.014       0.046       0.418\n",
      "Community_10       0.7587      0.020     38.626      0.000       0.720       0.797\n",
      "Community_16      -0.4536      0.052     -8.795      0.000      -0.555      -0.352\n",
      "Community_18      -0.2280      0.031     -7.451      0.000      -0.288      -0.168\n",
      "Community_28      -0.1259      0.014     -9.261      0.000      -0.153      -0.099\n",
      "Community_29       0.3086      0.027     11.461      0.000       0.256       0.361\n",
      "Community_31       0.0666      0.017      3.848      0.000       0.033       0.101\n",
      "Community_32      -0.0776      0.018     -4.267      0.000      -0.113      -0.042\n",
      "Community_33       0.1659      0.039      4.228      0.000       0.089       0.243\n",
      "Community_36      -0.5877      0.029    -20.072      0.000      -0.645      -0.530\n",
      "Community_40      -1.3452      0.148     -9.074      0.000      -1.636      -1.055\n",
      "Community_49       0.9358      0.041     22.715      0.000       0.855       1.017\n",
      "Community_50      -0.0431      0.026     -1.679      0.093      -0.093       0.007\n",
      "Community_52       0.1228      0.041      2.960      0.003       0.041       0.204\n",
      "Community_54       0.0841      0.047      1.786      0.074      -0.008       0.176\n",
      "Community_101     -0.0577      0.033     -1.745      0.081      -0.123       0.007\n",
      "Community_152     -0.6720      0.111     -6.032      0.000      -0.890      -0.454\n",
      "Community_221     -0.1193      0.070     -1.715      0.086      -0.256       0.017\n",
      "==============================================================================\n",
      "Omnibus:                     3666.417   Durbin-Watson:                   2.001\n",
      "Prob(Omnibus):                  0.000   Jarque-Bera (JB):            71936.914\n",
      "Skew:                           1.943   Prob(JB):                         0.00\n",
      "Kurtosis:                      17.858   Cond. No.                         44.7\n",
      "==============================================================================\n",
      "\n",
      "Warnings:\n",
      "[1] Standard Errors assume that the covariance matrix of the errors is correctly specified.\n"
     ]
    }
   ],
   "source": [
    "model4 = sm.OLS(y6.reset_index(drop = 1), ko_X6)\n",
    "result4 = model4.fit()\n",
    "print(result4.summary())"
   ]
  },
  {
   "cell_type": "code",
   "execution_count": null,
   "metadata": {
    "collapsed": true
   },
   "outputs": [],
   "source": []
  },
  {
   "cell_type": "markdown",
   "metadata": {},
   "source": [
    "# 교차 검증"
   ]
  },
  {
   "cell_type": "code",
   "execution_count": 446,
   "metadata": {
    "collapsed": true
   },
   "outputs": [],
   "source": [
    "X = ko_X6.ix[:,1:].values\n",
    "y = y6.values"
   ]
  },
  {
   "cell_type": "code",
   "execution_count": 447,
   "metadata": {},
   "outputs": [
    {
     "data": {
      "text/plain": [
       "array([ 0.80569784,  0.83786815,  0.78693992,  0.83171389,  0.85654393])"
      ]
     },
     "execution_count": 447,
     "metadata": {},
     "output_type": "execute_result"
    }
   ],
   "source": [
    "from sklearn.cross_validation import KFold\n",
    "from sklearn.metrics import mean_squared_error\n",
    "from sklearn.metrics import r2_score\n",
    "from sklearn.linear_model import LinearRegression\n",
    "model5 = LinearRegression()\n",
    "cv = KFold(len(ko_X6), n_folds=5, random_state=0)\n",
    "\n",
    "scores = np.zeros(5)\n",
    "for i, (train_index, test_index) in enumerate(cv):\n",
    "    X_train = X[train_index]\n",
    "    y_train = y[train_index]\n",
    "    X_test = X[test_index]\n",
    "    y_test = y[test_index]\n",
    "    model5.fit(X_train, y_train)\n",
    "    y_pred = model5.predict(X_test)\n",
    "    scores[i] = r2_score(y_test, y_pred)\n",
    "\n",
    "scores"
   ]
  },
  {
   "cell_type": "code",
   "execution_count": 448,
   "metadata": {},
   "outputs": [
    {
     "data": {
      "text/plain": [
       "0.82375274495231532"
      ]
     },
     "execution_count": 448,
     "metadata": {},
     "output_type": "execute_result"
    }
   ],
   "source": [
    "scores.mean()"
   ]
  },
  {
   "cell_type": "code",
   "execution_count": null,
   "metadata": {
    "collapsed": true
   },
   "outputs": [],
   "source": []
  },
  {
   "cell_type": "markdown",
   "metadata": {},
   "source": [
    "# 2. 예측 with test_set"
   ]
  },
  {
   "cell_type": "code",
   "execution_count": 483,
   "metadata": {},
   "outputs": [
    {
     "data": {
      "text/plain": [
       "(150, 21)"
      ]
     },
     "execution_count": 483,
     "metadata": {},
     "output_type": "execute_result"
    }
   ],
   "source": [
    "test.shape"
   ]
  },
  {
   "cell_type": "code",
   "execution_count": 484,
   "metadata": {
    "collapsed": true
   },
   "outputs": [],
   "source": [
    "test_X = pd.DataFrame(test[test['language_code'] == 'ko'],columns = ['id','comments_count','likes_count','via','category','communities'])"
   ]
  },
  {
   "cell_type": "code",
   "execution_count": 485,
   "metadata": {
    "collapsed": true
   },
   "outputs": [],
   "source": [
    "test_X = test_X.reset_index(drop = 1)"
   ]
  },
  {
   "cell_type": "code",
   "execution_count": 486,
   "metadata": {
    "scrolled": false
   },
   "outputs": [
    {
     "data": {
      "text/plain": [
       "(118, 6)"
      ]
     },
     "execution_count": 486,
     "metadata": {},
     "output_type": "execute_result"
    }
   ],
   "source": [
    "test_X.shape"
   ]
  },
  {
   "cell_type": "code",
   "execution_count": 487,
   "metadata": {
    "collapsed": true
   },
   "outputs": [],
   "source": [
    "via_dum = pd.DataFrame(np.zeros((len(test_X),3)),columns = ['android','ios','web'])\n",
    "for i, via in enumerate(test_X.via):\n",
    "    if via == 'android':\n",
    "        via_dum.ix[i, 0] = 1\n",
    "    elif via == 'ios':\n",
    "        via_dum.ix[i,1] = 1\n",
    "    elif via == 'web':\n",
    "        via_dum.ix[i,2] = 1\n",
    "test_X = test_X.join(via_dum)"
   ]
  },
  {
   "cell_type": "code",
   "execution_count": 488,
   "metadata": {
    "collapsed": true
   },
   "outputs": [],
   "source": [
    "category_dum = pd.DataFrame(np.zeros((len(test_X),2)),columns = ['ImagePost','TextPost'])\n",
    "for i, category in enumerate(test_X.category):\n",
    "    if category == 'ImagePost':\n",
    "        category_dum.ix[i,0] = 1\n",
    "    elif category == 'TextPost':\n",
    "        category_dum.ix[i,1] = 1\n",
    "test_X = test_X.join(category_dum)"
   ]
  },
  {
   "cell_type": "code",
   "execution_count": 489,
   "metadata": {
    "collapsed": true
   },
   "outputs": [],
   "source": [
    "community_dum = pd.DataFrame(np.zeros((len(test_X),len(community))),columns = community)\n",
    "for i, communities in enumerate(test_X.communities):\n",
    "    try:\n",
    "        l = re.sub(r'[{}]','',communities)\n",
    "        l = re.split(',',l)\n",
    "        for c in l:\n",
    "            c = c.encode('utf-8')\n",
    "            if c in community:\n",
    "                community_dum.ix[i,c] = 1\n",
    "    except:\n",
    "        pass"
   ]
  },
  {
   "cell_type": "code",
   "execution_count": 490,
   "metadata": {
    "collapsed": true
   },
   "outputs": [],
   "source": [
    "co = np.arange(len(community))\n",
    "community_dum.columns = co\n",
    "test_X = test_X.join(community_dum.add_prefix('Community_'))"
   ]
  },
  {
   "cell_type": "code",
   "execution_count": 491,
   "metadata": {},
   "outputs": [
    {
     "data": {
      "text/plain": [
       "Index([u'id', u'comments_count', u'likes_count', u'via', u'category',\n",
       "       u'communities', u'android', u'ios', u'web', u'ImagePost',\n",
       "       ...\n",
       "       u'Community_260', u'Community_261', u'Community_262', u'Community_263',\n",
       "       u'Community_264', u'Community_265', u'Community_266', u'Community_267',\n",
       "       u'Community_268', u'Community_269'],\n",
       "      dtype='object', length=281)"
      ]
     },
     "execution_count": 491,
     "metadata": {},
     "output_type": "execute_result"
    }
   ],
   "source": [
    "test_X.columns"
   ]
  },
  {
   "cell_type": "code",
   "execution_count": 492,
   "metadata": {
    "collapsed": true
   },
   "outputs": [],
   "source": [
    "test_X2 = pd.DataFrame(test_X, columns = ['const','comments_count','likes_count','android','ImagePost','Community_2','Community_3','Community_9','Community_10','Community_16','Community_18','Community_28','Community_29','Community_31','Community_32','Community_33','Community_36','Community_40','Community_49','Community_50','Community_52','Community_54','Community_101','Community_152','Community_221'])"
   ]
  },
  {
   "cell_type": "code",
   "execution_count": 493,
   "metadata": {},
   "outputs": [],
   "source": [
    "test_X3 = pd.DataFrame(scaler.transform(test_X2.ix[:, 1:3]), columns=test_X2.columns[1:3])"
   ]
  },
  {
   "cell_type": "code",
   "execution_count": 494,
   "metadata": {
    "collapsed": true
   },
   "outputs": [],
   "source": [
    "test_X3= test_X3.join(test_X2.reset_index(drop=1).ix[:,3:])"
   ]
  },
  {
   "cell_type": "code",
   "execution_count": 495,
   "metadata": {},
   "outputs": [
    {
     "data": {
      "text/plain": [
       "Index([u'const', u'comments_count', u'likes_count', u'android', u'ImagePost',\n",
       "       u'Community_2', u'Community_3', u'Community_9', u'Community_10',\n",
       "       u'Community_16', u'Community_18', u'Community_28', u'Community_29',\n",
       "       u'Community_31', u'Community_32', u'Community_33', u'Community_36',\n",
       "       u'Community_40', u'Community_49', u'Community_50', u'Community_52',\n",
       "       u'Community_54', u'Community_101', u'Community_152', u'Community_221'],\n",
       "      dtype='object')"
      ]
     },
     "execution_count": 495,
     "metadata": {},
     "output_type": "execute_result"
    }
   ],
   "source": [
    "test_X3 = sm.add_constant(test_X3, has_constant='add')\n",
    "test_X3.columns"
   ]
  },
  {
   "cell_type": "code",
   "execution_count": 482,
   "metadata": {
    "collapsed": true
   },
   "outputs": [],
   "source": [
    "#test_id = test_X3['id']"
   ]
  },
  {
   "cell_type": "code",
   "execution_count": 496,
   "metadata": {
    "collapsed": true
   },
   "outputs": [],
   "source": [
    "pred = result4.predict(test_X3)"
   ]
  },
  {
   "cell_type": "code",
   "execution_count": 497,
   "metadata": {
    "collapsed": true
   },
   "outputs": [],
   "source": [
    "y = scaler.inverse_transform(pred)"
   ]
  },
  {
   "cell_type": "code",
   "execution_count": 498,
   "metadata": {},
   "outputs": [
    {
     "name": "stdout",
     "output_type": "stream",
     "text": [
      "[   20.21076719  1706.42854783    38.20708686   624.09234766   901.89840171\n",
      "   242.65149587   143.73641186     9.05671354  1730.36657081    12.8588662\n",
      "   890.62359512    13.61929673     9.14138457   152.69223618  2040.03730988\n",
      "   143.65174082  -185.87486312   -92.90829222   141.28577819  -110.77765233\n",
      "     9.05671354    22.21184286   187.04606057   413.19415544  2136.53053398\n",
      " -1550.55566774   514.1350702  -1390.61241979  -322.66651097  4680.95827594\n",
      "   144.15976702  -318.86435831  -166.94598516     9.9018151    141.79541316\n",
      "     9.05671354   140.52534766  -316.58306671   187.63714904   -11.39897677\n",
      "  1585.50497394    17.42144939   141.28577819  3078.97339889  -151.47408424\n",
      "  -480.67427965  4261.08151919  -719.6284677   4954.5094657    143.65174082\n",
      "   146.86280502   140.52534766     7.53585247  -278.47686907  -427.8163781\n",
      "   142.80663926    22.21184286   217.87144408  -451.51163072    14.46439829\n",
      "  2187.06245955  -322.66651097  1278.61941698    30.60278154     7.53585247\n",
      "    25.02575471  -737.01512307   144.32750032    16.66101886   140.52534766\n",
      "  4884.54824797  -143.86977892  4259.13730296  -449.07194124  -150.92995026\n",
      "   832.48285513   233.52632948  4955.60858037     7.53585247 -1519.03772301\n",
      "   143.56706979  -519.96132281 -1216.66842699    26.92607365  -168.34391843\n",
      "   831.80709563  -103.48501713    61.95911084  -327.22909416   -89.10613956\n",
      "  -194.32154256  2730.84716751 -2000.22366568   141.28577819  -107.58428261\n",
      " -1558.92040359   143.56706979   140.61001869    14.37972726  -199.64455628\n",
      "  -191.19787685     9.81714407   140.77936076   643.72212121    10.66224563\n",
      "  -107.58428261  -442.34922924    25.25356499    50.37397538    79.10421107\n",
      "    10.5775746   1895.12802382 -1720.84658438  2037.24960085  -272.72116476\n",
      "  -194.23959897   833.24328566   834.93348879]\n"
     ]
    }
   ],
   "source": [
    "print y"
   ]
  },
  {
   "cell_type": "code",
   "execution_count": 499,
   "metadata": {},
   "outputs": [
    {
     "data": {
      "text/html": [
       "<div>\n",
       "<table border=\"1\" class=\"dataframe\">\n",
       "  <thead>\n",
       "    <tr style=\"text-align: right;\">\n",
       "      <th></th>\n",
       "      <th>0</th>\n",
       "    </tr>\n",
       "  </thead>\n",
       "  <tbody>\n",
       "    <tr>\n",
       "      <th>count</th>\n",
       "      <td>118.000000</td>\n",
       "    </tr>\n",
       "    <tr>\n",
       "      <th>mean</th>\n",
       "      <td>359.209148</td>\n",
       "    </tr>\n",
       "    <tr>\n",
       "      <th>std</th>\n",
       "      <td>1278.886066</td>\n",
       "    </tr>\n",
       "    <tr>\n",
       "      <th>min</th>\n",
       "      <td>-2000.223666</td>\n",
       "    </tr>\n",
       "    <tr>\n",
       "      <th>25%</th>\n",
       "      <td>-151.338051</td>\n",
       "    </tr>\n",
       "    <tr>\n",
       "      <th>50%</th>\n",
       "      <td>23.618799</td>\n",
       "    </tr>\n",
       "    <tr>\n",
       "      <th>75%</th>\n",
       "      <td>210.312870</td>\n",
       "    </tr>\n",
       "    <tr>\n",
       "      <th>max</th>\n",
       "      <td>4955.608580</td>\n",
       "    </tr>\n",
       "  </tbody>\n",
       "</table>\n",
       "</div>"
      ],
      "text/plain": [
       "                 0\n",
       "count   118.000000\n",
       "mean    359.209148\n",
       "std    1278.886066\n",
       "min   -2000.223666\n",
       "25%    -151.338051\n",
       "50%      23.618799\n",
       "75%     210.312870\n",
       "max    4955.608580"
      ]
     },
     "execution_count": 499,
     "metadata": {},
     "output_type": "execute_result"
    }
   ],
   "source": [
    "pd.DataFrame(y).describe()"
   ]
  },
  {
   "cell_type": "code",
   "execution_count": 500,
   "metadata": {},
   "outputs": [
    {
     "data": {
      "text/plain": [
       "count     9789.000000\n",
       "mean      1509.723056\n",
       "std       4364.864121\n",
       "min          0.000000\n",
       "25%         55.000000\n",
       "50%        186.000000\n",
       "75%        701.000000\n",
       "max      69951.000000\n",
       "Name: clicks_count, dtype: float64"
      ]
     },
     "execution_count": 500,
     "metadata": {},
     "output_type": "execute_result"
    }
   ],
   "source": [
    "train['clicks_count'].describe()"
   ]
  },
  {
   "cell_type": "code",
   "execution_count": null,
   "metadata": {
    "collapsed": true
   },
   "outputs": [],
   "source": []
  },
  {
   "cell_type": "markdown",
   "metadata": {},
   "source": [
    "# 예측 결과"
   ]
  },
  {
   "cell_type": "code",
   "execution_count": 501,
   "metadata": {
    "collapsed": true
   },
   "outputs": [],
   "source": [
    "test_id = pd.DataFrame(test_id)\n",
    "y = pd.DataFrame(y)\n",
    "result = pd.concat([test_id ,y],axis = 1)"
   ]
  },
  {
   "cell_type": "code",
   "execution_count": 502,
   "metadata": {},
   "outputs": [
    {
     "data": {
      "text/html": [
       "<div>\n",
       "<table border=\"1\" class=\"dataframe\">\n",
       "  <thead>\n",
       "    <tr style=\"text-align: right;\">\n",
       "      <th></th>\n",
       "      <th>id</th>\n",
       "      <th>0</th>\n",
       "    </tr>\n",
       "  </thead>\n",
       "  <tbody>\n",
       "    <tr>\n",
       "      <th>0</th>\n",
       "      <td>2054531</td>\n",
       "      <td>20.210767</td>\n",
       "    </tr>\n",
       "    <tr>\n",
       "      <th>1</th>\n",
       "      <td>2054593</td>\n",
       "      <td>1706.428548</td>\n",
       "    </tr>\n",
       "    <tr>\n",
       "      <th>2</th>\n",
       "      <td>2054646</td>\n",
       "      <td>38.207087</td>\n",
       "    </tr>\n",
       "    <tr>\n",
       "      <th>3</th>\n",
       "      <td>2051444</td>\n",
       "      <td>624.092348</td>\n",
       "    </tr>\n",
       "    <tr>\n",
       "      <th>4</th>\n",
       "      <td>2051474</td>\n",
       "      <td>901.898402</td>\n",
       "    </tr>\n",
       "    <tr>\n",
       "      <th>5</th>\n",
       "      <td>2054690</td>\n",
       "      <td>242.651496</td>\n",
       "    </tr>\n",
       "    <tr>\n",
       "      <th>6</th>\n",
       "      <td>2051536</td>\n",
       "      <td>143.736412</td>\n",
       "    </tr>\n",
       "    <tr>\n",
       "      <th>7</th>\n",
       "      <td>2051545</td>\n",
       "      <td>9.056714</td>\n",
       "    </tr>\n",
       "    <tr>\n",
       "      <th>8</th>\n",
       "      <td>2051550</td>\n",
       "      <td>1730.366571</td>\n",
       "    </tr>\n",
       "    <tr>\n",
       "      <th>9</th>\n",
       "      <td>2054836</td>\n",
       "      <td>12.858866</td>\n",
       "    </tr>\n",
       "    <tr>\n",
       "      <th>10</th>\n",
       "      <td>2054876</td>\n",
       "      <td>890.623595</td>\n",
       "    </tr>\n",
       "    <tr>\n",
       "      <th>11</th>\n",
       "      <td>2054915</td>\n",
       "      <td>13.619297</td>\n",
       "    </tr>\n",
       "    <tr>\n",
       "      <th>12</th>\n",
       "      <td>2051590</td>\n",
       "      <td>9.141385</td>\n",
       "    </tr>\n",
       "    <tr>\n",
       "      <th>13</th>\n",
       "      <td>2051885</td>\n",
       "      <td>152.692236</td>\n",
       "    </tr>\n",
       "    <tr>\n",
       "      <th>14</th>\n",
       "      <td>2056300</td>\n",
       "      <td>2040.037310</td>\n",
       "    </tr>\n",
       "    <tr>\n",
       "      <th>15</th>\n",
       "      <td>2056702</td>\n",
       "      <td>143.651741</td>\n",
       "    </tr>\n",
       "    <tr>\n",
       "      <th>16</th>\n",
       "      <td>2056767</td>\n",
       "      <td>-185.874863</td>\n",
       "    </tr>\n",
       "    <tr>\n",
       "      <th>17</th>\n",
       "      <td>2056783</td>\n",
       "      <td>-92.908292</td>\n",
       "    </tr>\n",
       "    <tr>\n",
       "      <th>18</th>\n",
       "      <td>2056820</td>\n",
       "      <td>141.285778</td>\n",
       "    </tr>\n",
       "    <tr>\n",
       "      <th>19</th>\n",
       "      <td>2056903</td>\n",
       "      <td>-110.777652</td>\n",
       "    </tr>\n",
       "    <tr>\n",
       "      <th>20</th>\n",
       "      <td>2056945</td>\n",
       "      <td>9.056714</td>\n",
       "    </tr>\n",
       "    <tr>\n",
       "      <th>21</th>\n",
       "      <td>2049920</td>\n",
       "      <td>22.211843</td>\n",
       "    </tr>\n",
       "    <tr>\n",
       "      <th>22</th>\n",
       "      <td>2049921</td>\n",
       "      <td>187.046061</td>\n",
       "    </tr>\n",
       "    <tr>\n",
       "      <th>23</th>\n",
       "      <td>2049983</td>\n",
       "      <td>413.194155</td>\n",
       "    </tr>\n",
       "    <tr>\n",
       "      <th>24</th>\n",
       "      <td>2050058</td>\n",
       "      <td>2136.530534</td>\n",
       "    </tr>\n",
       "    <tr>\n",
       "      <th>25</th>\n",
       "      <td>2050126</td>\n",
       "      <td>-1550.555668</td>\n",
       "    </tr>\n",
       "    <tr>\n",
       "      <th>26</th>\n",
       "      <td>2050129</td>\n",
       "      <td>514.135070</td>\n",
       "    </tr>\n",
       "    <tr>\n",
       "      <th>27</th>\n",
       "      <td>2052863</td>\n",
       "      <td>-1390.612420</td>\n",
       "    </tr>\n",
       "    <tr>\n",
       "      <th>28</th>\n",
       "      <td>2050136</td>\n",
       "      <td>-322.666511</td>\n",
       "    </tr>\n",
       "    <tr>\n",
       "      <th>29</th>\n",
       "      <td>2052883</td>\n",
       "      <td>4680.958276</td>\n",
       "    </tr>\n",
       "    <tr>\n",
       "      <th>...</th>\n",
       "      <td>...</td>\n",
       "      <td>...</td>\n",
       "    </tr>\n",
       "    <tr>\n",
       "      <th>88</th>\n",
       "      <td>2052486</td>\n",
       "      <td>-327.229094</td>\n",
       "    </tr>\n",
       "    <tr>\n",
       "      <th>89</th>\n",
       "      <td>2052504</td>\n",
       "      <td>-89.106140</td>\n",
       "    </tr>\n",
       "    <tr>\n",
       "      <th>90</th>\n",
       "      <td>2052519</td>\n",
       "      <td>-194.321543</td>\n",
       "    </tr>\n",
       "    <tr>\n",
       "      <th>91</th>\n",
       "      <td>2052540</td>\n",
       "      <td>2730.847168</td>\n",
       "    </tr>\n",
       "    <tr>\n",
       "      <th>92</th>\n",
       "      <td>2052606</td>\n",
       "      <td>-2000.223666</td>\n",
       "    </tr>\n",
       "    <tr>\n",
       "      <th>93</th>\n",
       "      <td>2052706</td>\n",
       "      <td>141.285778</td>\n",
       "    </tr>\n",
       "    <tr>\n",
       "      <th>94</th>\n",
       "      <td>2052727</td>\n",
       "      <td>-107.584283</td>\n",
       "    </tr>\n",
       "    <tr>\n",
       "      <th>95</th>\n",
       "      <td>2053630</td>\n",
       "      <td>-1558.920404</td>\n",
       "    </tr>\n",
       "    <tr>\n",
       "      <th>96</th>\n",
       "      <td>2053840</td>\n",
       "      <td>143.567070</td>\n",
       "    </tr>\n",
       "    <tr>\n",
       "      <th>97</th>\n",
       "      <td>2053842</td>\n",
       "      <td>140.610019</td>\n",
       "    </tr>\n",
       "    <tr>\n",
       "      <th>98</th>\n",
       "      <td>2053925</td>\n",
       "      <td>14.379727</td>\n",
       "    </tr>\n",
       "    <tr>\n",
       "      <th>99</th>\n",
       "      <td>2054208</td>\n",
       "      <td>-199.644556</td>\n",
       "    </tr>\n",
       "    <tr>\n",
       "      <th>100</th>\n",
       "      <td>2054296</td>\n",
       "      <td>-191.197877</td>\n",
       "    </tr>\n",
       "    <tr>\n",
       "      <th>101</th>\n",
       "      <td>2055019</td>\n",
       "      <td>9.817144</td>\n",
       "    </tr>\n",
       "    <tr>\n",
       "      <th>102</th>\n",
       "      <td>2055105</td>\n",
       "      <td>140.779361</td>\n",
       "    </tr>\n",
       "    <tr>\n",
       "      <th>103</th>\n",
       "      <td>2055220</td>\n",
       "      <td>643.722121</td>\n",
       "    </tr>\n",
       "    <tr>\n",
       "      <th>104</th>\n",
       "      <td>2055297</td>\n",
       "      <td>10.662246</td>\n",
       "    </tr>\n",
       "    <tr>\n",
       "      <th>105</th>\n",
       "      <td>2055728</td>\n",
       "      <td>-107.584283</td>\n",
       "    </tr>\n",
       "    <tr>\n",
       "      <th>106</th>\n",
       "      <td>2055797</td>\n",
       "      <td>-442.349229</td>\n",
       "    </tr>\n",
       "    <tr>\n",
       "      <th>107</th>\n",
       "      <td>2055825</td>\n",
       "      <td>25.253565</td>\n",
       "    </tr>\n",
       "    <tr>\n",
       "      <th>108</th>\n",
       "      <td>2055838</td>\n",
       "      <td>50.373975</td>\n",
       "    </tr>\n",
       "    <tr>\n",
       "      <th>109</th>\n",
       "      <td>2055885</td>\n",
       "      <td>79.104211</td>\n",
       "    </tr>\n",
       "    <tr>\n",
       "      <th>110</th>\n",
       "      <td>2055927</td>\n",
       "      <td>10.577575</td>\n",
       "    </tr>\n",
       "    <tr>\n",
       "      <th>111</th>\n",
       "      <td>2056074</td>\n",
       "      <td>1895.128024</td>\n",
       "    </tr>\n",
       "    <tr>\n",
       "      <th>112</th>\n",
       "      <td>2056186</td>\n",
       "      <td>-1720.846584</td>\n",
       "    </tr>\n",
       "    <tr>\n",
       "      <th>113</th>\n",
       "      <td>2055407</td>\n",
       "      <td>2037.249601</td>\n",
       "    </tr>\n",
       "    <tr>\n",
       "      <th>114</th>\n",
       "      <td>2055738</td>\n",
       "      <td>-272.721165</td>\n",
       "    </tr>\n",
       "    <tr>\n",
       "      <th>115</th>\n",
       "      <td>2055754</td>\n",
       "      <td>-194.239599</td>\n",
       "    </tr>\n",
       "    <tr>\n",
       "      <th>116</th>\n",
       "      <td>2055899</td>\n",
       "      <td>833.243286</td>\n",
       "    </tr>\n",
       "    <tr>\n",
       "      <th>117</th>\n",
       "      <td>2056049</td>\n",
       "      <td>834.933489</td>\n",
       "    </tr>\n",
       "  </tbody>\n",
       "</table>\n",
       "<p>118 rows × 2 columns</p>\n",
       "</div>"
      ],
      "text/plain": [
       "          id            0\n",
       "0    2054531    20.210767\n",
       "1    2054593  1706.428548\n",
       "2    2054646    38.207087\n",
       "3    2051444   624.092348\n",
       "4    2051474   901.898402\n",
       "5    2054690   242.651496\n",
       "6    2051536   143.736412\n",
       "7    2051545     9.056714\n",
       "8    2051550  1730.366571\n",
       "9    2054836    12.858866\n",
       "10   2054876   890.623595\n",
       "11   2054915    13.619297\n",
       "12   2051590     9.141385\n",
       "13   2051885   152.692236\n",
       "14   2056300  2040.037310\n",
       "15   2056702   143.651741\n",
       "16   2056767  -185.874863\n",
       "17   2056783   -92.908292\n",
       "18   2056820   141.285778\n",
       "19   2056903  -110.777652\n",
       "20   2056945     9.056714\n",
       "21   2049920    22.211843\n",
       "22   2049921   187.046061\n",
       "23   2049983   413.194155\n",
       "24   2050058  2136.530534\n",
       "25   2050126 -1550.555668\n",
       "26   2050129   514.135070\n",
       "27   2052863 -1390.612420\n",
       "28   2050136  -322.666511\n",
       "29   2052883  4680.958276\n",
       "..       ...          ...\n",
       "88   2052486  -327.229094\n",
       "89   2052504   -89.106140\n",
       "90   2052519  -194.321543\n",
       "91   2052540  2730.847168\n",
       "92   2052606 -2000.223666\n",
       "93   2052706   141.285778\n",
       "94   2052727  -107.584283\n",
       "95   2053630 -1558.920404\n",
       "96   2053840   143.567070\n",
       "97   2053842   140.610019\n",
       "98   2053925    14.379727\n",
       "99   2054208  -199.644556\n",
       "100  2054296  -191.197877\n",
       "101  2055019     9.817144\n",
       "102  2055105   140.779361\n",
       "103  2055220   643.722121\n",
       "104  2055297    10.662246\n",
       "105  2055728  -107.584283\n",
       "106  2055797  -442.349229\n",
       "107  2055825    25.253565\n",
       "108  2055838    50.373975\n",
       "109  2055885    79.104211\n",
       "110  2055927    10.577575\n",
       "111  2056074  1895.128024\n",
       "112  2056186 -1720.846584\n",
       "113  2055407  2037.249601\n",
       "114  2055738  -272.721165\n",
       "115  2055754  -194.239599\n",
       "116  2055899   833.243286\n",
       "117  2056049   834.933489\n",
       "\n",
       "[118 rows x 2 columns]"
      ]
     },
     "execution_count": 502,
     "metadata": {},
     "output_type": "execute_result"
    }
   ],
   "source": [
    "result"
   ]
  },
  {
   "cell_type": "code",
   "execution_count": 503,
   "metadata": {},
   "outputs": [
    {
     "name": "stderr",
     "output_type": "stream",
     "text": [
      "c:\\python27\\lib\\site-packages\\ipykernel_launcher.py:1: FutureWarning: sort(columns=....) is deprecated, use sort_values(by=.....)\n",
      "  \"\"\"Entry point for launching an IPython kernel.\n"
     ]
    }
   ],
   "source": [
    "result2 = result.sort(0 , ascending=False)"
   ]
  },
  {
   "cell_type": "code",
   "execution_count": 504,
   "metadata": {},
   "outputs": [
    {
     "data": {
      "text/html": [
       "<div>\n",
       "<table border=\"1\" class=\"dataframe\">\n",
       "  <thead>\n",
       "    <tr style=\"text-align: right;\">\n",
       "      <th></th>\n",
       "      <th>id</th>\n",
       "      <th>0</th>\n",
       "    </tr>\n",
       "  </thead>\n",
       "  <tbody>\n",
       "    <tr>\n",
       "      <th>77</th>\n",
       "      <td>2051968</td>\n",
       "      <td>4955.608580</td>\n",
       "    </tr>\n",
       "    <tr>\n",
       "      <th>48</th>\n",
       "      <td>2052081</td>\n",
       "      <td>4954.509466</td>\n",
       "    </tr>\n",
       "    <tr>\n",
       "      <th>70</th>\n",
       "      <td>2051846</td>\n",
       "      <td>4884.548248</td>\n",
       "    </tr>\n",
       "    <tr>\n",
       "      <th>29</th>\n",
       "      <td>2052883</td>\n",
       "      <td>4680.958276</td>\n",
       "    </tr>\n",
       "    <tr>\n",
       "      <th>46</th>\n",
       "      <td>2052024</td>\n",
       "      <td>4261.081519</td>\n",
       "    </tr>\n",
       "  </tbody>\n",
       "</table>\n",
       "</div>"
      ],
      "text/plain": [
       "         id            0\n",
       "77  2051968  4955.608580\n",
       "48  2052081  4954.509466\n",
       "70  2051846  4884.548248\n",
       "29  2052883  4680.958276\n",
       "46  2052024  4261.081519"
      ]
     },
     "execution_count": 504,
     "metadata": {},
     "output_type": "execute_result"
    }
   ],
   "source": [
    "result2.head()"
   ]
  },
  {
   "cell_type": "code",
   "execution_count": 505,
   "metadata": {},
   "outputs": [
    {
     "data": {
      "text/html": [
       "<div>\n",
       "<table border=\"1\" class=\"dataframe\">\n",
       "  <thead>\n",
       "    <tr style=\"text-align: right;\">\n",
       "      <th></th>\n",
       "      <th>id</th>\n",
       "      <th>0</th>\n",
       "    </tr>\n",
       "  </thead>\n",
       "  <tbody>\n",
       "    <tr>\n",
       "      <th>79</th>\n",
       "      <td>2056937</td>\n",
       "      <td>-1519.037723</td>\n",
       "    </tr>\n",
       "    <tr>\n",
       "      <th>25</th>\n",
       "      <td>2050126</td>\n",
       "      <td>-1550.555668</td>\n",
       "    </tr>\n",
       "    <tr>\n",
       "      <th>95</th>\n",
       "      <td>2053630</td>\n",
       "      <td>-1558.920404</td>\n",
       "    </tr>\n",
       "    <tr>\n",
       "      <th>112</th>\n",
       "      <td>2056186</td>\n",
       "      <td>-1720.846584</td>\n",
       "    </tr>\n",
       "    <tr>\n",
       "      <th>92</th>\n",
       "      <td>2052606</td>\n",
       "      <td>-2000.223666</td>\n",
       "    </tr>\n",
       "  </tbody>\n",
       "</table>\n",
       "</div>"
      ],
      "text/plain": [
       "          id            0\n",
       "79   2056937 -1519.037723\n",
       "25   2050126 -1550.555668\n",
       "95   2053630 -1558.920404\n",
       "112  2056186 -1720.846584\n",
       "92   2052606 -2000.223666"
      ]
     },
     "execution_count": 505,
     "metadata": {},
     "output_type": "execute_result"
    }
   ],
   "source": [
    "result2.tail()"
   ]
  },
  {
   "cell_type": "code",
   "execution_count": null,
   "metadata": {
    "collapsed": true
   },
   "outputs": [],
   "source": []
  }
 ],
 "metadata": {
  "kernelspec": {
   "display_name": "Python 2",
   "language": "python",
   "name": "python2"
  },
  "language_info": {
   "codemirror_mode": {
    "name": "ipython",
    "version": 2
   },
   "file_extension": ".py",
   "mimetype": "text/x-python",
   "name": "python",
   "nbconvert_exporter": "python",
   "pygments_lexer": "ipython2",
   "version": "2.7.13"
  }
 },
 "nbformat": 4,
 "nbformat_minor": 2
}
